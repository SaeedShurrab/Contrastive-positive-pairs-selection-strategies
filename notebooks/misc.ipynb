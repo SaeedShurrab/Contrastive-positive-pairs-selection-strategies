{
 "cells": [
  {
   "cell_type": "code",
   "execution_count": 16,
   "metadata": {},
   "outputs": [],
   "source": [
    "import os\n",
    "from typing import *"
   ]
  },
  {
   "cell_type": "markdown",
   "metadata": {},
   "source": [
    "# pytorch Hooks\n",
    "\n",
    "https://medium.com/the-dl/how-to-use-pytorch-hooks-5041d777f904"
   ]
  },
  {
   "cell_type": "code",
   "execution_count": 17,
   "metadata": {},
   "outputs": [
    {
     "ename": "NameError",
     "evalue": "name 'nn' is not defined",
     "output_type": "error",
     "traceback": [
      "\u001b[0;31m---------------------------------------------------------------------------\u001b[0m",
      "\u001b[0;31mNameError\u001b[0m                                 Traceback (most recent call last)",
      "\u001b[0;32m<ipython-input-17-c50f785b49ab>\u001b[0m in \u001b[0;36m<module>\u001b[0;34m\u001b[0m\n\u001b[0;32m----> 1\u001b[0;31m \u001b[0;32mclass\u001b[0m \u001b[0mVerposeExcution\u001b[0m\u001b[0;34m(\u001b[0m\u001b[0mnn\u001b[0m\u001b[0;34m.\u001b[0m\u001b[0mModule\u001b[0m\u001b[0;34m)\u001b[0m\u001b[0;34m:\u001b[0m\u001b[0;34m\u001b[0m\u001b[0;34m\u001b[0m\u001b[0m\n\u001b[0m\u001b[1;32m      2\u001b[0m     def __init__(\n\u001b[1;32m      3\u001b[0m         \u001b[0mself\u001b[0m\u001b[0;34m,\u001b[0m\u001b[0;34m\u001b[0m\u001b[0;34m\u001b[0m\u001b[0m\n\u001b[1;32m      4\u001b[0m         \u001b[0mmodel\u001b[0m\u001b[0;34m:\u001b[0m \u001b[0mnn\u001b[0m\u001b[0;34m.\u001b[0m\u001b[0mModule\u001b[0m\u001b[0;34m\u001b[0m\u001b[0;34m\u001b[0m\u001b[0m\n\u001b[1;32m      5\u001b[0m     ) -> None:\n",
      "\u001b[0;31mNameError\u001b[0m: name 'nn' is not defined"
     ]
    }
   ],
   "source": [
    "class VerposeExcution(nn.Module):\n",
    "    def __init__(\n",
    "        self,\n",
    "        model: nn.Module\n",
    "    ) -> None:\n",
    "        super(VerposeExcution,self).__init__()\n",
    "        \n",
    "        self.model = model\n",
    "        \n",
    "        for name, layer in self.model.named_children():\n",
    "            layer.__name__ = name\n",
    "            layer.register_forward_hook(\n",
    "                lambda layer, _, output: print(f\"{layer.__name__}: {output.shape}\")\n",
    "            )\n",
    "            \n",
    "    def forward(self, x: Tensor) -> Tensor:\n",
    "        return self.model(x)"
   ]
  },
  {
   "cell_type": "code",
   "execution_count": 18,
   "metadata": {},
   "outputs": [],
   "source": [
    "from torchvision.models import resnet50"
   ]
  },
  {
   "cell_type": "code",
   "execution_count": 19,
   "metadata": {
    "scrolled": true
   },
   "outputs": [
    {
     "ename": "NameError",
     "evalue": "name 'VerposeExcution' is not defined",
     "output_type": "error",
     "traceback": [
      "\u001b[0;31m---------------------------------------------------------------------------\u001b[0m",
      "\u001b[0;31mNameError\u001b[0m                                 Traceback (most recent call last)",
      "\u001b[0;32m<ipython-input-19-de745a9a3f5f>\u001b[0m in \u001b[0;36m<module>\u001b[0;34m\u001b[0m\n\u001b[0;32m----> 1\u001b[0;31m \u001b[0mverpose\u001b[0m \u001b[0;34m=\u001b[0m \u001b[0mVerposeExcution\u001b[0m\u001b[0;34m(\u001b[0m\u001b[0mresnet50\u001b[0m\u001b[0;34m(\u001b[0m\u001b[0;34m)\u001b[0m\u001b[0;34m)\u001b[0m\u001b[0;34m\u001b[0m\u001b[0;34m\u001b[0m\u001b[0m\n\u001b[0m\u001b[1;32m      2\u001b[0m \u001b[0mdummy\u001b[0m \u001b[0;34m=\u001b[0m \u001b[0mtorch\u001b[0m\u001b[0;34m.\u001b[0m\u001b[0mones\u001b[0m\u001b[0;34m(\u001b[0m\u001b[0;36m1\u001b[0m\u001b[0;34m,\u001b[0m\u001b[0;36m3\u001b[0m\u001b[0;34m,\u001b[0m\u001b[0;36m224\u001b[0m\u001b[0;34m,\u001b[0m\u001b[0;36m224\u001b[0m\u001b[0;34m)\u001b[0m\u001b[0;34m\u001b[0m\u001b[0;34m\u001b[0m\u001b[0m\n\u001b[1;32m      3\u001b[0m \u001b[0;34m\u001b[0m\u001b[0m\n\u001b[1;32m      4\u001b[0m \u001b[0m_\u001b[0m \u001b[0;34m=\u001b[0m \u001b[0mverpose\u001b[0m\u001b[0;34m(\u001b[0m\u001b[0mdummy\u001b[0m\u001b[0;34m)\u001b[0m\u001b[0;34m\u001b[0m\u001b[0;34m\u001b[0m\u001b[0m\n",
      "\u001b[0;31mNameError\u001b[0m: name 'VerposeExcution' is not defined"
     ]
    }
   ],
   "source": [
    "verpose = VerposeExcution(resnet50())\n",
    "dummy = torch.ones(1,3,224,224)\n",
    "\n",
    "_ = verpose(dummy)"
   ]
  },
  {
   "cell_type": "code",
   "execution_count": null,
   "metadata": {},
   "outputs": [],
   "source": [
    "\n",
    "from typing import Dict, Iterable, Callable\n",
    "\n",
    "class FeatureExtractor(nn.Module):\n",
    "    def __init__(self, model: nn.Module, layers: Iterable[str]):\n",
    "        super().__init__()\n",
    "        self.model = model\n",
    "        self.layers = layers\n",
    "        self._features = {layer: torch.empty(0) for layer in layers}\n",
    "\n",
    "        for layer_id in layers:\n",
    "            layer = dict([*self.model.named_modules()])[layer_id]\n",
    "            layer.register_forward_hook(self.save_outputs_hook(layer_id))\n",
    "\n",
    "    def save_outputs_hook(self, layer_id: str) -> Callable:\n",
    "        def fn(_, __, output):\n",
    "            self._features[layer_id] = output\n",
    "        return fn\n",
    "\n",
    "    def forward(self, x: Tensor) -> Dict[str, Tensor]:\n",
    "        _ = self.model(x)\n",
    "        return self._features\n"
   ]
  },
  {
   "cell_type": "code",
   "execution_count": null,
   "metadata": {},
   "outputs": [],
   "source": [
    "resnet_features = FeatureExtractor(resnet50(), layers=[\"layer4\", \"avgpool\"])\n",
    "features = resnet_features(dummy)"
   ]
  },
  {
   "cell_type": "code",
   "execution_count": null,
   "metadata": {},
   "outputs": [],
   "source": [
    "print({name: output.shape for name, output in features.items()})\n"
   ]
  },
  {
   "cell_type": "code",
   "execution_count": null,
   "metadata": {},
   "outputs": [],
   "source": [
    "x = torch.empty(0)\n",
    "x =  "
   ]
  },
  {
   "cell_type": "markdown",
   "metadata": {},
   "source": [
    "# Python decorators\n",
    "\n",
    "https://realpython.com/primer-on-python-decorators/#returning-functions-from-functions"
   ]
  },
  {
   "cell_type": "code",
   "execution_count": 20,
   "metadata": {},
   "outputs": [
    {
     "data": {
      "text/plain": [
       "3"
      ]
     },
     "execution_count": 20,
     "metadata": {},
     "output_type": "execute_result"
    }
   ],
   "source": [
    "def add_one(number: int):\n",
    "    return number + 1\n",
    "\n",
    "add_one(2)"
   ]
  },
  {
   "cell_type": "markdown",
   "metadata": {},
   "source": [
    "## function behaviour"
   ]
  },
  {
   "cell_type": "code",
   "execution_count": 21,
   "metadata": {},
   "outputs": [],
   "source": [
    "def say_hello(name: str) -> str:\n",
    "    return f'hello {name}'\n",
    "\n",
    "def be_awesome(name: str) -> str:\n",
    "    return f\"Yo {name}, together we are the awesomest!\"\n",
    "\n",
    "def greet_bob(greeter_func: Callable) -> str:\n",
    "    return greeter_func('Bob')"
   ]
  },
  {
   "cell_type": "code",
   "execution_count": 22,
   "metadata": {},
   "outputs": [
    {
     "data": {
      "text/plain": [
       "'hello Bob'"
      ]
     },
     "execution_count": 22,
     "metadata": {},
     "output_type": "execute_result"
    }
   ],
   "source": [
    "greet_bob(say_hello)"
   ]
  },
  {
   "cell_type": "markdown",
   "metadata": {},
   "source": [
    "## inner Function"
   ]
  },
  {
   "cell_type": "code",
   "execution_count": 23,
   "metadata": {},
   "outputs": [],
   "source": [
    "def parent() -> None:\n",
    "    print(\"Printing from the parent() function\")\n",
    "    \n",
    "    def first_child() -> None:\n",
    "        print(\"Printing from the _child() function\")\n",
    "    \n",
    "    def second_child() -> None:\n",
    "        print(\"Printing from the second_child() function\")\n",
    "\n",
    "    second_child()        \n",
    "    first_child()\n"
   ]
  },
  {
   "cell_type": "code",
   "execution_count": 24,
   "metadata": {},
   "outputs": [
    {
     "name": "stdout",
     "output_type": "stream",
     "text": [
      "Printing from the parent() function\n",
      "Printing from the second_child() function\n",
      "Printing from the _child() function\n"
     ]
    }
   ],
   "source": [
    "parent()"
   ]
  },
  {
   "cell_type": "code",
   "execution_count": 25,
   "metadata": {},
   "outputs": [
    {
     "ename": "NameError",
     "evalue": "name 'first_child' is not defined",
     "output_type": "error",
     "traceback": [
      "\u001b[0;31m---------------------------------------------------------------------------\u001b[0m",
      "\u001b[0;31mNameError\u001b[0m                                 Traceback (most recent call last)",
      "\u001b[0;32m<ipython-input-25-decf6400bee7>\u001b[0m in \u001b[0;36m<module>\u001b[0;34m\u001b[0m\n\u001b[0;32m----> 1\u001b[0;31m \u001b[0mfirst_child\u001b[0m\u001b[0;34m(\u001b[0m\u001b[0;34m)\u001b[0m\u001b[0;34m\u001b[0m\u001b[0;34m\u001b[0m\u001b[0m\n\u001b[0m",
      "\u001b[0;31mNameError\u001b[0m: name 'first_child' is not defined"
     ]
    }
   ],
   "source": [
    "first_child()"
   ]
  },
  {
   "cell_type": "markdown",
   "metadata": {},
   "source": [
    "## Returning Functions From Functions"
   ]
  },
  {
   "cell_type": "code",
   "execution_count": 26,
   "metadata": {},
   "outputs": [],
   "source": [
    "def parent(num: int) -> str:\n",
    "    \n",
    "    def first_child() -> str:\n",
    "        return 'Hi, I am lima'\n",
    "    \n",
    "    def second_child() -> str:\n",
    "        return 'call me lima'\n",
    "    \n",
    "    if num == 1:\n",
    "        return first_child\n",
    "    \n",
    "    elif num == 2:\n",
    "        return second_child\n",
    "    \n",
    "    else:\n",
    "        return 'invalid input'"
   ]
  },
  {
   "cell_type": "code",
   "execution_count": 27,
   "metadata": {},
   "outputs": [
    {
     "data": {
      "text/plain": [
       "'Hi, I am lima'"
      ]
     },
     "execution_count": 27,
     "metadata": {},
     "output_type": "execute_result"
    }
   ],
   "source": [
    "first =  parent(1)\n",
    "first()"
   ]
  },
  {
   "cell_type": "markdown",
   "metadata": {},
   "source": [
    "## simple decorators"
   ]
  },
  {
   "cell_type": "code",
   "execution_count": 28,
   "metadata": {},
   "outputs": [
    {
     "name": "stdout",
     "output_type": "stream",
     "text": [
      "Something is happening before the function is called.\n",
      "hello\n",
      "Something is happening after the function is called.\n"
     ]
    }
   ],
   "source": [
    "def my_decorator(func: Callable) -> Callable:\n",
    "    \n",
    "    def wrapper():\n",
    "        print(\"Something is happening before the function is called.\")\n",
    "        func()\n",
    "        print(\"Something is happening after the function is called.\")\n",
    "        \n",
    "    return wrapper\n",
    "        \n",
    "def say_hello() -> str:\n",
    "    print('hello')\n",
    "\n",
    "say_hello = my_decorator(say_hello)\n",
    "say_hello()"
   ]
  },
  {
   "cell_type": "code",
   "execution_count": 29,
   "metadata": {},
   "outputs": [
    {
     "name": "stdout",
     "output_type": "stream",
     "text": [
      "Something is happening before the function is called.\n",
      "Something is happening before the function is called.\n",
      "hello\n",
      "Something is happening after the function is called.\n",
      "Something is happening after the function is called.\n"
     ]
    }
   ],
   "source": [
    "say_hello = my_decorator(say_hello)\n",
    "say_hello()"
   ]
  },
  {
   "cell_type": "code",
   "execution_count": 30,
   "metadata": {},
   "outputs": [],
   "source": [
    "from datetime import datetime\n",
    "\n",
    "def not_during_night(func: Callable) -> Callable or str:\n",
    "    \n",
    "    def wrapper():\n",
    "        if 7 <= datetime.now().hour < 22:\n",
    "            func()\n",
    "        else:\n",
    "            print('not allowed')\n",
    "            \n",
    "    return wrapper\n",
    "\n",
    "\n",
    "@not_during_night\n",
    "def say_whee():\n",
    "    print('Whee')\n",
    "    \n"
   ]
  },
  {
   "cell_type": "code",
   "execution_count": 31,
   "metadata": {},
   "outputs": [
    {
     "name": "stdout",
     "output_type": "stream",
     "text": [
      "not allowed\n"
     ]
    }
   ],
   "source": [
    "say_whee()"
   ]
  },
  {
   "cell_type": "code",
   "execution_count": 32,
   "metadata": {},
   "outputs": [
    {
     "data": {
      "text/plain": [
       "5"
      ]
     },
     "execution_count": 32,
     "metadata": {},
     "output_type": "execute_result"
    }
   ],
   "source": [
    "datetime.now().hour"
   ]
  },
  {
   "cell_type": "markdown",
   "metadata": {},
   "source": [
    "## Syntactic Sugar!"
   ]
  },
  {
   "cell_type": "code",
   "execution_count": 33,
   "metadata": {},
   "outputs": [],
   "source": [
    "def my_decorator(func):\n",
    "    def wrapper():\n",
    "        print(\"Something is happening before the function is called.\")\n",
    "        func()\n",
    "        print(\"Something is happening after the function is called.\")\n",
    "    return wrapper\n",
    "\n",
    "@my_decorator\n",
    "def say_whee():\n",
    "    print(\"Whee!\")"
   ]
  },
  {
   "cell_type": "code",
   "execution_count": 34,
   "metadata": {},
   "outputs": [
    {
     "name": "stdout",
     "output_type": "stream",
     "text": [
      "Something is happening before the function is called.\n",
      "Whee!\n",
      "Something is happening after the function is called.\n"
     ]
    }
   ],
   "source": [
    "say_whee()"
   ]
  },
  {
   "cell_type": "code",
   "execution_count": 35,
   "metadata": {},
   "outputs": [],
   "source": [
    "from datetime import datetime\n",
    "\n",
    "def not_during_night(func: Callable) -> Callable or str:\n",
    "    \n",
    "    def wrapper():\n",
    "        if 7 <= datetime.now().hour < 11:\n",
    "            func()\n",
    "        else:\n",
    "            print('not allowed')\n",
    "            \n",
    "    return wrapper\n",
    "\n",
    "\n",
    "@not_during_night\n",
    "def say_whee():\n",
    "    print('Whee')"
   ]
  },
  {
   "cell_type": "code",
   "execution_count": 36,
   "metadata": {},
   "outputs": [
    {
     "name": "stdout",
     "output_type": "stream",
     "text": [
      "not allowed\n"
     ]
    }
   ],
   "source": [
    "say_whee()"
   ]
  },
  {
   "cell_type": "markdown",
   "metadata": {},
   "source": [
    "## Reusing Decorators"
   ]
  },
  {
   "cell_type": "code",
   "execution_count": 37,
   "metadata": {},
   "outputs": [],
   "source": [
    "def do_twice(func: Callable) -> Callable:\n",
    "    def wrapper_do_twice():\n",
    "        func()\n",
    "        func()\n",
    "    return wrapper_do_twice"
   ]
  },
  {
   "cell_type": "code",
   "execution_count": 38,
   "metadata": {},
   "outputs": [],
   "source": [
    "@do_twice\n",
    "def say_whee() -> None:\n",
    "    print('Whee!')"
   ]
  },
  {
   "cell_type": "code",
   "execution_count": 39,
   "metadata": {},
   "outputs": [
    {
     "name": "stdout",
     "output_type": "stream",
     "text": [
      "Whee!\n",
      "Whee!\n"
     ]
    }
   ],
   "source": [
    "say_whee()"
   ]
  },
  {
   "cell_type": "markdown",
   "metadata": {},
   "source": [
    "## Decorating Functions With Arguments"
   ]
  },
  {
   "cell_type": "code",
   "execution_count": 40,
   "metadata": {},
   "outputs": [],
   "source": [
    "@do_twice\n",
    "def greet(name: str) -> None:\n",
    "    print(f'hell {name}')"
   ]
  },
  {
   "cell_type": "code",
   "execution_count": 41,
   "metadata": {},
   "outputs": [
    {
     "ename": "TypeError",
     "evalue": "wrapper_do_twice() takes 0 positional arguments but 1 was given",
     "output_type": "error",
     "traceback": [
      "\u001b[0;31m---------------------------------------------------------------------------\u001b[0m",
      "\u001b[0;31mTypeError\u001b[0m                                 Traceback (most recent call last)",
      "\u001b[0;32m<ipython-input-41-16f7365f1020>\u001b[0m in \u001b[0;36m<module>\u001b[0;34m\u001b[0m\n\u001b[0;32m----> 1\u001b[0;31m \u001b[0mgreet\u001b[0m\u001b[0;34m(\u001b[0m\u001b[0;34m'saeed'\u001b[0m\u001b[0;34m)\u001b[0m\u001b[0;34m\u001b[0m\u001b[0;34m\u001b[0m\u001b[0m\n\u001b[0m",
      "\u001b[0;31mTypeError\u001b[0m: wrapper_do_twice() takes 0 positional arguments but 1 was given"
     ]
    }
   ],
   "source": [
    "greet('saeed')"
   ]
  },
  {
   "cell_type": "code",
   "execution_count": 42,
   "metadata": {},
   "outputs": [],
   "source": [
    "def do_twice(func: Callable) -> Callable:\n",
    "    def wrapper_do_twice(*args, **kwargs):\n",
    "        func(*args, **kwargs)\n",
    "        func(*args, **kwargs)\n",
    "    return wrapper_do_twice"
   ]
  },
  {
   "cell_type": "code",
   "execution_count": 43,
   "metadata": {},
   "outputs": [
    {
     "name": "stdout",
     "output_type": "stream",
     "text": [
      "hello saeed\n",
      "hello saeed\n"
     ]
    }
   ],
   "source": [
    "@do_twice\n",
    "def greet(name: str) -> None:\n",
    "    print(f'hello {name}')\n",
    "    \n",
    "greet('saeed')"
   ]
  },
  {
   "cell_type": "code",
   "execution_count": 44,
   "metadata": {},
   "outputs": [
    {
     "name": "stdout",
     "output_type": "stream",
     "text": [
      "Whee!\n",
      "Whee!\n"
     ]
    }
   ],
   "source": [
    "@do_twice\n",
    "def say_whee() -> None:\n",
    "    print('Whee!')\n",
    "say_whee()"
   ]
  },
  {
   "cell_type": "code",
   "execution_count": 45,
   "metadata": {},
   "outputs": [],
   "source": [
    "@do_twice\n",
    "def return_greeting(name: str) -> str:\n",
    "    print(\"Creating greeting\")\n",
    "    return f'hi {name}'"
   ]
  },
  {
   "cell_type": "code",
   "execution_count": 46,
   "metadata": {},
   "outputs": [
    {
     "name": "stdout",
     "output_type": "stream",
     "text": [
      "Creating greeting\n",
      "Creating greeting\n"
     ]
    }
   ],
   "source": [
    "x = return_greeting('saeed')\n"
   ]
  },
  {
   "cell_type": "code",
   "execution_count": 47,
   "metadata": {},
   "outputs": [],
   "source": [
    "def do_twice(func: Callable) -> Callable:\n",
    "    def wrapper_do_twice(*args, **kwargs):\n",
    "        func(*args, **kwargs)\n",
    "        return func(*args, **kwargs)\n",
    "    return wrapper_do_twice"
   ]
  },
  {
   "cell_type": "code",
   "execution_count": 48,
   "metadata": {},
   "outputs": [],
   "source": [
    "@do_twice\n",
    "def return_greeting(name: str) -> str:\n",
    "    print(\"Creating greeting\")\n",
    "    return f'hi {name}'"
   ]
  },
  {
   "cell_type": "code",
   "execution_count": 49,
   "metadata": {},
   "outputs": [
    {
     "name": "stdout",
     "output_type": "stream",
     "text": [
      "Creating greeting\n",
      "Creating greeting\n",
      "hi saeed\n"
     ]
    }
   ],
   "source": [
    "x = return_greeting('saeed')\n",
    "print(x)"
   ]
  },
  {
   "cell_type": "markdown",
   "metadata": {},
   "source": [
    "## Who Are You, Really?"
   ]
  },
  {
   "cell_type": "code",
   "execution_count": 50,
   "metadata": {},
   "outputs": [
    {
     "data": {
      "text/plain": [
       "<function print>"
      ]
     },
     "execution_count": 50,
     "metadata": {},
     "output_type": "execute_result"
    }
   ],
   "source": [
    "print"
   ]
  },
  {
   "cell_type": "code",
   "execution_count": 51,
   "metadata": {},
   "outputs": [
    {
     "data": {
      "text/plain": [
       "'print'"
      ]
     },
     "execution_count": 51,
     "metadata": {},
     "output_type": "execute_result"
    }
   ],
   "source": [
    "print.__name__"
   ]
  },
  {
   "cell_type": "code",
   "execution_count": 52,
   "metadata": {},
   "outputs": [
    {
     "data": {
      "text/plain": [
       "'wrapper'"
      ]
     },
     "execution_count": 52,
     "metadata": {},
     "output_type": "execute_result"
    }
   ],
   "source": [
    "say_hello.__name__"
   ]
  },
  {
   "cell_type": "code",
   "execution_count": 53,
   "metadata": {},
   "outputs": [
    {
     "name": "stdout",
     "output_type": "stream",
     "text": [
      "Help on function wrapper_do_twice in module __main__:\n",
      "\n",
      "wrapper_do_twice(*args, **kwargs)\n",
      "\n"
     ]
    }
   ],
   "source": [
    "help(say_whee)"
   ]
  },
  {
   "cell_type": "code",
   "execution_count": 54,
   "metadata": {},
   "outputs": [],
   "source": [
    "import functools\n"
   ]
  },
  {
   "cell_type": "code",
   "execution_count": 55,
   "metadata": {},
   "outputs": [],
   "source": [
    "def do_twice(func):\n",
    "    @functoolst.wraps(func)\n",
    "    def wrapper_do_twice(*args, **kwargs):\n",
    "        func(*args, **kwargs)\n",
    "        return func(*args, **kwargs)\n",
    "    return wrapper_do_twice"
   ]
  },
  {
   "cell_type": "code",
   "execution_count": 56,
   "metadata": {},
   "outputs": [
    {
     "data": {
      "text/plain": [
       "<function __main__.do_twice.<locals>.wrapper_do_twice(*args, **kwargs)>"
      ]
     },
     "execution_count": 56,
     "metadata": {},
     "output_type": "execute_result"
    }
   ],
   "source": [
    "say_whee"
   ]
  },
  {
   "cell_type": "markdown",
   "metadata": {},
   "source": [
    "## decorator template"
   ]
  },
  {
   "cell_type": "code",
   "execution_count": 57,
   "metadata": {},
   "outputs": [],
   "source": [
    "def decorator(func: Callable) -> Callable:\n",
    "    @functools.wraps(func)\n",
    "    def wrapper_decorator(*args, **kwargs):\n",
    "        # Do something before\n",
    "        value = func(*args, **kwargs)\n",
    "        # Do something after\n",
    "        return value\n",
    "    return wrapper_decorator"
   ]
  },
  {
   "cell_type": "markdown",
   "metadata": {},
   "source": [
    "## A Few Real World Examples"
   ]
  },
  {
   "cell_type": "code",
   "execution_count": 58,
   "metadata": {},
   "outputs": [],
   "source": [
    "import time"
   ]
  },
  {
   "cell_type": "code",
   "execution_count": 59,
   "metadata": {},
   "outputs": [],
   "source": [
    "def timer(func: Callable):\n",
    "    \n",
    "    @functools.wraps(func)\n",
    "    def wrapper_timer(*args, **kwargs):\n",
    "        \n",
    "        start_time = time.perf_counter()\n",
    "        value = func(*args, **kwargs)\n",
    "        end_time = time.perf_counter()\n",
    "        total_time = end_time -start_time\n",
    "        print(f\"Finished {func.__name__!r} in {total_time:.4f} secs\")\n",
    "        return value\n",
    "    return wrapper_timer\n"
   ]
  },
  {
   "cell_type": "code",
   "execution_count": 60,
   "metadata": {},
   "outputs": [],
   "source": [
    "@timer\n",
    "def waste_some_time(num_times):\n",
    "    for _ in range(num_times):\n",
    "        sum([i for i in range(10000)])\n"
   ]
  },
  {
   "cell_type": "code",
   "execution_count": 99,
   "metadata": {},
   "outputs": [
    {
     "name": "stdout",
     "output_type": "stream",
     "text": [
      "Finished 'waste_some_time' in 0.8898 secs\n"
     ]
    }
   ],
   "source": [
    "x = waste_some_time(2201)"
   ]
  },
  {
   "cell_type": "code",
   "execution_count": 62,
   "metadata": {},
   "outputs": [
    {
     "name": "stdout",
     "output_type": "stream",
     "text": [
      "None\n"
     ]
    }
   ],
   "source": [
    "print(x)"
   ]
  },
  {
   "cell_type": "code",
   "execution_count": 63,
   "metadata": {},
   "outputs": [],
   "source": [
    "def debug(func: Callable) -> Callable:\n",
    "    \n",
    "    @functools.wraps(func)\n",
    "    def wrapper_debug(*args, **kwargs):\n",
    "        args_repr = [repr(a) for a in args]\n",
    "        kwargs_repr = [f\"{k}={v!r}\" for k, v in kwargs.items()]\n",
    "        signature = \", \".join(args_repr + kwargs_repr) \n",
    "        print(f\"Calling {func.__name__}({signature})\")\n",
    "        value = func(*args, **kwargs)\n",
    "        print(f\"{func.__name__!r} returned {value!r}\") \n",
    "        return value\n",
    "    return wrapper_debug"
   ]
  },
  {
   "cell_type": "code",
   "execution_count": 64,
   "metadata": {},
   "outputs": [],
   "source": [
    "@debug\n",
    "def make_greeting(name, age=None):\n",
    "    if age is None:\n",
    "        return f\"Howdy {name}!\"\n",
    "    else:\n",
    "        return f\"Whoa {name}! {age} already, you are growing up!\""
   ]
  },
  {
   "cell_type": "code",
   "execution_count": 65,
   "metadata": {},
   "outputs": [
    {
     "name": "stdout",
     "output_type": "stream",
     "text": [
      "Calling make_greeting('saeed', age=25)\n",
      "'make_greeting' returned 'Whoa saeed! 25 already, you are growing up!'\n"
     ]
    }
   ],
   "source": [
    "x = make_greeting('saeed', age=25)"
   ]
  },
  {
   "cell_type": "code",
   "execution_count": 66,
   "metadata": {},
   "outputs": [],
   "source": [
    "import math"
   ]
  },
  {
   "cell_type": "code",
   "execution_count": 67,
   "metadata": {},
   "outputs": [],
   "source": [
    "@debug\n",
    "def approximate_e(terms=18):\n",
    "    return sum(1 / math.factorial(n) for n in range(terms))"
   ]
  },
  {
   "cell_type": "code",
   "execution_count": 68,
   "metadata": {},
   "outputs": [
    {
     "name": "stdout",
     "output_type": "stream",
     "text": [
      "Calling approximate_e(100)\n",
      "'approximate_e' returned 2.7182818284590455\n"
     ]
    },
    {
     "data": {
      "text/plain": [
       "2.7182818284590455"
      ]
     },
     "execution_count": 68,
     "metadata": {},
     "output_type": "execute_result"
    }
   ],
   "source": [
    "approximate_e(100)"
   ]
  },
  {
   "cell_type": "code",
   "execution_count": 69,
   "metadata": {},
   "outputs": [],
   "source": [
    "def slow_down(func):\n",
    "    \"\"\"Sleep 1 second before calling the function\"\"\"\n",
    "    @functools.wraps(func)\n",
    "    def wrapper_slow_down(*args, **kwargs):\n",
    "        time.sleep(1)\n",
    "        return func(*args, **kwargs)\n",
    "    return wrapper_slow_down\n"
   ]
  },
  {
   "cell_type": "code",
   "execution_count": 70,
   "metadata": {},
   "outputs": [],
   "source": [
    "@slow_down\n",
    "def countdown(from_number):\n",
    "    if from_number < 1:\n",
    "        print(\"Liftoff!\")\n",
    "    else:\n",
    "        print(from_number)\n",
    "        countdown(from_number - 1)"
   ]
  },
  {
   "cell_type": "code",
   "execution_count": 71,
   "metadata": {},
   "outputs": [
    {
     "name": "stdout",
     "output_type": "stream",
     "text": [
      "3\n",
      "2\n",
      "1\n",
      "Liftoff!\n"
     ]
    }
   ],
   "source": [
    "countdown(3)"
   ]
  },
  {
   "cell_type": "code",
   "execution_count": 72,
   "metadata": {},
   "outputs": [],
   "source": [
    "import random\n",
    "PLUGINS = dict()\n",
    "\n",
    "def register(func):\n",
    "    \"\"\"Register a function as a plug-in\"\"\"\n",
    "    PLUGINS[func.__name__] = func\n",
    "    return func\n",
    "\n",
    "@register\n",
    "def say_hello(name):\n",
    "    return f\"Hello {name}\"\n",
    "\n",
    "@register\n",
    "def be_awesome(name):\n",
    "    return f\"Yo {name}, together we are the awesomest!\"\n",
    "\n",
    "def randomly_greet(name):\n",
    "    greeter, greeter_func = random.choice(list(PLUGINS.items()))\n",
    "    print(f\"Using {greeter!r}\")\n",
    "    return greeter_func(name)"
   ]
  },
  {
   "cell_type": "code",
   "execution_count": 73,
   "metadata": {},
   "outputs": [
    {
     "data": {
      "text/plain": [
       "{'say_hello': <function __main__.say_hello(name)>,\n",
       " 'be_awesome': <function __main__.be_awesome(name)>}"
      ]
     },
     "execution_count": 73,
     "metadata": {},
     "output_type": "execute_result"
    }
   ],
   "source": [
    "PLUGINS"
   ]
  },
  {
   "cell_type": "code",
   "execution_count": 74,
   "metadata": {},
   "outputs": [
    {
     "data": {
      "text/plain": [
       "{'__name__': '__main__',\n",
       " '__doc__': 'Automatically created module for IPython interactive environment',\n",
       " '__package__': None,\n",
       " '__loader__': None,\n",
       " '__spec__': None,\n",
       " '__builtin__': <module 'builtins' (built-in)>,\n",
       " '__builtins__': <module 'builtins' (built-in)>,\n",
       " '_ih': ['',\n",
       "  'class Circle:\\n    def __init__(self, radius):\\n        self._radius = radius\\n\\n    @property\\n    def radius(self):\\n        \"\"\"Get value of radius\"\"\"\\n        return self._radius\\n\\n    @radius.setter\\n    def radius(self, value):\\n        \"\"\"Set radius, raise error if negative\"\"\"\\n        if value >= 0:\\n            self._radius = value\\n        else:\\n            raise ValueError(\"Radius must be positive\")\\n\\n    @property\\n    def area(self):\\n        \"\"\"Calculate area inside circle\"\"\"\\n        return self.pi() * self.radius**2\\n\\n    def cylinder_volume(self, height):\\n        \"\"\"Calculate volume of cylinder with circle as base\"\"\"\\n        return self.area * height\\n\\n    @classmethod\\n    def unit_circle(cls):\\n        \"\"\"Factory method creating a circle with radius 1\"\"\"\\n        return cls(1)\\n\\n    @staticmethod\\n    def pi():\\n        \"\"\"Value of π, could use math.pi instead though\"\"\"\\n        return 3.1415926535',\n",
       "  'Circle.unit_circle()',\n",
       "  'x = Circle.unit_circle()',\n",
       "  'x',\n",
       "  'x.radius()',\n",
       "  'x.radius',\n",
       "  'x.radius(2)',\n",
       "  'x.setter(2)',\n",
       "  'x.unit_circle()',\n",
       "  'x.pi()',\n",
       "  'Circle.pi()',\n",
       "  'x.unit_circle()',\n",
       "  'x.unit_circle',\n",
       "  'x.unit_circle()',\n",
       "  'Circle.unit_circle()',\n",
       "  'import os\\nfrom typing import *',\n",
       "  'class VerposeExcution(nn.Module):\\n    def __init__(\\n        self,\\n        model: nn.Module\\n    ) -> None:\\n        super(VerposeExcution,self).__init__()\\n        \\n        self.model = model\\n        \\n        for name, layer in self.model.named_children():\\n            layer.__name__ = name\\n            layer.register_forward_hook(\\n                lambda layer, _, output: print(f\"{layer.__name__}: {output.shape}\")\\n            )\\n            \\n    def forward(self, x: Tensor) -> Tensor:\\n        return self.model(x)',\n",
       "  'from torchvision.models import resnet50',\n",
       "  'verpose = VerposeExcution(resnet50())\\ndummy = torch.ones(1,3,224,224)\\n\\n_ = verpose(dummy)',\n",
       "  'def add_one(number: int):\\n    return number + 1\\n\\nadd_one(2)',\n",
       "  'def say_hello(name: str) -> str:\\n    return f\\'hello {name}\\'\\n\\ndef be_awesome(name: str) -> str:\\n    return f\"Yo {name}, together we are the awesomest!\"\\n\\ndef greet_bob(greeter_func: Callable) -> str:\\n    return greeter_func(\\'Bob\\')',\n",
       "  'greet_bob(say_hello)',\n",
       "  'def parent() -> None:\\n    print(\"Printing from the parent() function\")\\n    \\n    def first_child() -> None:\\n        print(\"Printing from the _child() function\")\\n    \\n    def second_child() -> None:\\n        print(\"Printing from the second_child() function\")\\n\\n    second_child()        \\n    first_child()',\n",
       "  'parent()',\n",
       "  'first_child()',\n",
       "  \"def parent(num: int) -> str:\\n    \\n    def first_child() -> str:\\n        return 'Hi, I am lima'\\n    \\n    def second_child() -> str:\\n        return 'call me lima'\\n    \\n    if num == 1:\\n        return first_child\\n    \\n    elif num == 2:\\n        return second_child\\n    \\n    else:\\n        return 'invalid input'\",\n",
       "  'first =  parent(1)\\nfirst()',\n",
       "  'def my_decorator(func: Callable) -> Callable:\\n    \\n    def wrapper():\\n        print(\"Something is happening before the function is called.\")\\n        func()\\n        print(\"Something is happening after the function is called.\")\\n        \\n    return wrapper\\n        \\ndef say_hello() -> str:\\n    print(\\'hello\\')\\n\\nsay_hello = my_decorator(say_hello)\\nsay_hello()',\n",
       "  'say_hello = my_decorator(say_hello)\\nsay_hello()',\n",
       "  \"from datetime import datetime\\n\\ndef not_during_night(func: Callable) -> Callable or str:\\n    \\n    def wrapper():\\n        if 7 <= datetime.now().hour < 22:\\n            func()\\n        else:\\n            print('not allowed')\\n            \\n    return wrapper\\n\\n\\n@not_during_night\\ndef say_whee():\\n    print('Whee')\\n    \",\n",
       "  'say_whee()',\n",
       "  'datetime.now().hour',\n",
       "  'def my_decorator(func):\\n    def wrapper():\\n        print(\"Something is happening before the function is called.\")\\n        func()\\n        print(\"Something is happening after the function is called.\")\\n    return wrapper\\n\\n@my_decorator\\ndef say_whee():\\n    print(\"Whee!\")',\n",
       "  'say_whee()',\n",
       "  \"from datetime import datetime\\n\\ndef not_during_night(func: Callable) -> Callable or str:\\n    \\n    def wrapper():\\n        if 7 <= datetime.now().hour < 11:\\n            func()\\n        else:\\n            print('not allowed')\\n            \\n    return wrapper\\n\\n\\n@not_during_night\\ndef say_whee():\\n    print('Whee')\",\n",
       "  'say_whee()',\n",
       "  'def do_twice(func: Callable) -> Callable:\\n    def wrapper_do_twice():\\n        func()\\n        func()\\n    return wrapper_do_twice',\n",
       "  \"@do_twice\\ndef say_whee() -> None:\\n    print('Whee!')\",\n",
       "  'say_whee()',\n",
       "  \"@do_twice\\ndef greet(name: str) -> None:\\n    print(f'hell {name}')\",\n",
       "  \"greet('saeed')\",\n",
       "  'def do_twice(func: Callable) -> Callable:\\n    def wrapper_do_twice(*args, **kwargs):\\n        func(*args, **kwargs)\\n        func(*args, **kwargs)\\n    return wrapper_do_twice',\n",
       "  \"@do_twice\\ndef greet(name: str) -> None:\\n    print(f'hello {name}')\\n    \\ngreet('saeed')\",\n",
       "  \"@do_twice\\ndef say_whee() -> None:\\n    print('Whee!')\\nsay_whee()\",\n",
       "  '@do_twice\\ndef return_greeting(name: str) -> str:\\n    print(\"Creating greeting\")\\n    return f\\'hi {name}\\'',\n",
       "  \"x = return_greeting('saeed')\",\n",
       "  'def do_twice(func: Callable) -> Callable:\\n    def wrapper_do_twice(*args, **kwargs):\\n        func(*args, **kwargs)\\n        return func(*args, **kwargs)\\n    return wrapper_do_twice',\n",
       "  '@do_twice\\ndef return_greeting(name: str) -> str:\\n    print(\"Creating greeting\")\\n    return f\\'hi {name}\\'',\n",
       "  \"x = return_greeting('saeed')\\nprint(x)\",\n",
       "  'print',\n",
       "  'print.__name__',\n",
       "  'say_hello.__name__',\n",
       "  'help(say_whee)',\n",
       "  'import functools',\n",
       "  'def do_twice(func):\\n    @functoolst.wraps(func)\\n    def wrapper_do_twice(*args, **kwargs):\\n        func(*args, **kwargs)\\n        return func(*args, **kwargs)\\n    return wrapper_do_twice',\n",
       "  'say_whee',\n",
       "  'def decorator(func: Callable) -> Callable:\\n    @functools.wraps(func)\\n    def wrapper_decorator(*args, **kwargs):\\n        # Do something before\\n        value = func(*args, **kwargs)\\n        # Do something after\\n        return value\\n    return wrapper_decorator',\n",
       "  'import time',\n",
       "  'def timer(func: Callable):\\n    \\n    @functools.wraps(func)\\n    def wrapper_timer(*args, **kwargs):\\n        \\n        start_time = time.perf_counter()\\n        value = func(*args, **kwargs)\\n        end_time = time.perf_counter()\\n        total_time = end_time -start_time\\n        print(f\"Finished {func.__name__!r} in {total_time:.4f} secs\")\\n        return value\\n    return wrapper_timer',\n",
       "  '@timer\\ndef waste_some_time(num_times):\\n    for _ in range(num_times):\\n        sum([i for i in range(10000)])',\n",
       "  'x = waste_some_time(2201)',\n",
       "  'print(x)',\n",
       "  'def debug(func: Callable) -> Callable:\\n    \\n    @functools.wraps(func)\\n    def wrapper_debug(*args, **kwargs):\\n        args_repr = [repr(a) for a in args]\\n        kwargs_repr = [f\"{k}={v!r}\" for k, v in kwargs.items()]\\n        signature = \", \".join(args_repr + kwargs_repr) \\n        print(f\"Calling {func.__name__}({signature})\")\\n        value = func(*args, **kwargs)\\n        print(f\"{func.__name__!r} returned {value!r}\") \\n        return value\\n    return wrapper_debug',\n",
       "  '@debug\\ndef make_greeting(name, age=None):\\n    if age is None:\\n        return f\"Howdy {name}!\"\\n    else:\\n        return f\"Whoa {name}! {age} already, you are growing up!\"',\n",
       "  \"x = make_greeting('saeed', age=25)\",\n",
       "  'import math',\n",
       "  '@debug\\ndef approximate_e(terms=18):\\n    return sum(1 / math.factorial(n) for n in range(terms))',\n",
       "  'approximate_e(100)',\n",
       "  'def slow_down(func):\\n    \"\"\"Sleep 1 second before calling the function\"\"\"\\n    @functools.wraps(func)\\n    def wrapper_slow_down(*args, **kwargs):\\n        time.sleep(1)\\n        return func(*args, **kwargs)\\n    return wrapper_slow_down',\n",
       "  '@slow_down\\ndef countdown(from_number):\\n    if from_number < 1:\\n        print(\"Liftoff!\")\\n    else:\\n        print(from_number)\\n        countdown(from_number - 1)',\n",
       "  'countdown(3)',\n",
       "  'import random\\nPLUGINS = dict()\\n\\ndef register(func):\\n    \"\"\"Register a function as a plug-in\"\"\"\\n    PLUGINS[func.__name__] = func\\n    return func\\n\\n@register\\ndef say_hello(name):\\n    return f\"Hello {name}\"\\n\\n@register\\ndef be_awesome(name):\\n    return f\"Yo {name}, together we are the awesomest!\"\\n\\ndef randomly_greet(name):\\n    greeter, greeter_func = random.choice(list(PLUGINS.items()))\\n    print(f\"Using {greeter!r}\")\\n    return greeter_func(name)',\n",
       "  'PLUGINS',\n",
       "  'globals()'],\n",
       " '_oh': {2: <__main__.Circle at 0x7f3cce60bf10>,\n",
       "  4: <__main__.Circle at 0x7f3ccf1c8d30>,\n",
       "  6: 1,\n",
       "  9: <__main__.Circle at 0x7f3ccf1de4f0>,\n",
       "  10: 3.1415926535,\n",
       "  11: 3.1415926535,\n",
       "  12: <__main__.Circle at 0x7f3ccf1c5880>,\n",
       "  13: <bound method Circle.unit_circle of <class '__main__.Circle'>>,\n",
       "  14: <__main__.Circle at 0x7f3ccf1c5b50>,\n",
       "  15: <__main__.Circle at 0x7f3ccf1b8850>,\n",
       "  20: 3,\n",
       "  22: 'hello Bob',\n",
       "  27: 'Hi, I am lima',\n",
       "  32: 5,\n",
       "  50: <function print>,\n",
       "  51: 'print',\n",
       "  52: 'wrapper',\n",
       "  56: <function __main__.do_twice.<locals>.wrapper_do_twice(*args, **kwargs)>,\n",
       "  68: 2.7182818284590455,\n",
       "  73: {'say_hello': <function __main__.say_hello(name)>,\n",
       "   'be_awesome': <function __main__.be_awesome(name)>}},\n",
       " '_dh': ['/src/notebooks'],\n",
       " 'In': ['',\n",
       "  'class Circle:\\n    def __init__(self, radius):\\n        self._radius = radius\\n\\n    @property\\n    def radius(self):\\n        \"\"\"Get value of radius\"\"\"\\n        return self._radius\\n\\n    @radius.setter\\n    def radius(self, value):\\n        \"\"\"Set radius, raise error if negative\"\"\"\\n        if value >= 0:\\n            self._radius = value\\n        else:\\n            raise ValueError(\"Radius must be positive\")\\n\\n    @property\\n    def area(self):\\n        \"\"\"Calculate area inside circle\"\"\"\\n        return self.pi() * self.radius**2\\n\\n    def cylinder_volume(self, height):\\n        \"\"\"Calculate volume of cylinder with circle as base\"\"\"\\n        return self.area * height\\n\\n    @classmethod\\n    def unit_circle(cls):\\n        \"\"\"Factory method creating a circle with radius 1\"\"\"\\n        return cls(1)\\n\\n    @staticmethod\\n    def pi():\\n        \"\"\"Value of π, could use math.pi instead though\"\"\"\\n        return 3.1415926535',\n",
       "  'Circle.unit_circle()',\n",
       "  'x = Circle.unit_circle()',\n",
       "  'x',\n",
       "  'x.radius()',\n",
       "  'x.radius',\n",
       "  'x.radius(2)',\n",
       "  'x.setter(2)',\n",
       "  'x.unit_circle()',\n",
       "  'x.pi()',\n",
       "  'Circle.pi()',\n",
       "  'x.unit_circle()',\n",
       "  'x.unit_circle',\n",
       "  'x.unit_circle()',\n",
       "  'Circle.unit_circle()',\n",
       "  'import os\\nfrom typing import *',\n",
       "  'class VerposeExcution(nn.Module):\\n    def __init__(\\n        self,\\n        model: nn.Module\\n    ) -> None:\\n        super(VerposeExcution,self).__init__()\\n        \\n        self.model = model\\n        \\n        for name, layer in self.model.named_children():\\n            layer.__name__ = name\\n            layer.register_forward_hook(\\n                lambda layer, _, output: print(f\"{layer.__name__}: {output.shape}\")\\n            )\\n            \\n    def forward(self, x: Tensor) -> Tensor:\\n        return self.model(x)',\n",
       "  'from torchvision.models import resnet50',\n",
       "  'verpose = VerposeExcution(resnet50())\\ndummy = torch.ones(1,3,224,224)\\n\\n_ = verpose(dummy)',\n",
       "  'def add_one(number: int):\\n    return number + 1\\n\\nadd_one(2)',\n",
       "  'def say_hello(name: str) -> str:\\n    return f\\'hello {name}\\'\\n\\ndef be_awesome(name: str) -> str:\\n    return f\"Yo {name}, together we are the awesomest!\"\\n\\ndef greet_bob(greeter_func: Callable) -> str:\\n    return greeter_func(\\'Bob\\')',\n",
       "  'greet_bob(say_hello)',\n",
       "  'def parent() -> None:\\n    print(\"Printing from the parent() function\")\\n    \\n    def first_child() -> None:\\n        print(\"Printing from the _child() function\")\\n    \\n    def second_child() -> None:\\n        print(\"Printing from the second_child() function\")\\n\\n    second_child()        \\n    first_child()',\n",
       "  'parent()',\n",
       "  'first_child()',\n",
       "  \"def parent(num: int) -> str:\\n    \\n    def first_child() -> str:\\n        return 'Hi, I am lima'\\n    \\n    def second_child() -> str:\\n        return 'call me lima'\\n    \\n    if num == 1:\\n        return first_child\\n    \\n    elif num == 2:\\n        return second_child\\n    \\n    else:\\n        return 'invalid input'\",\n",
       "  'first =  parent(1)\\nfirst()',\n",
       "  'def my_decorator(func: Callable) -> Callable:\\n    \\n    def wrapper():\\n        print(\"Something is happening before the function is called.\")\\n        func()\\n        print(\"Something is happening after the function is called.\")\\n        \\n    return wrapper\\n        \\ndef say_hello() -> str:\\n    print(\\'hello\\')\\n\\nsay_hello = my_decorator(say_hello)\\nsay_hello()',\n",
       "  'say_hello = my_decorator(say_hello)\\nsay_hello()',\n",
       "  \"from datetime import datetime\\n\\ndef not_during_night(func: Callable) -> Callable or str:\\n    \\n    def wrapper():\\n        if 7 <= datetime.now().hour < 22:\\n            func()\\n        else:\\n            print('not allowed')\\n            \\n    return wrapper\\n\\n\\n@not_during_night\\ndef say_whee():\\n    print('Whee')\\n    \",\n",
       "  'say_whee()',\n",
       "  'datetime.now().hour',\n",
       "  'def my_decorator(func):\\n    def wrapper():\\n        print(\"Something is happening before the function is called.\")\\n        func()\\n        print(\"Something is happening after the function is called.\")\\n    return wrapper\\n\\n@my_decorator\\ndef say_whee():\\n    print(\"Whee!\")',\n",
       "  'say_whee()',\n",
       "  \"from datetime import datetime\\n\\ndef not_during_night(func: Callable) -> Callable or str:\\n    \\n    def wrapper():\\n        if 7 <= datetime.now().hour < 11:\\n            func()\\n        else:\\n            print('not allowed')\\n            \\n    return wrapper\\n\\n\\n@not_during_night\\ndef say_whee():\\n    print('Whee')\",\n",
       "  'say_whee()',\n",
       "  'def do_twice(func: Callable) -> Callable:\\n    def wrapper_do_twice():\\n        func()\\n        func()\\n    return wrapper_do_twice',\n",
       "  \"@do_twice\\ndef say_whee() -> None:\\n    print('Whee!')\",\n",
       "  'say_whee()',\n",
       "  \"@do_twice\\ndef greet(name: str) -> None:\\n    print(f'hell {name}')\",\n",
       "  \"greet('saeed')\",\n",
       "  'def do_twice(func: Callable) -> Callable:\\n    def wrapper_do_twice(*args, **kwargs):\\n        func(*args, **kwargs)\\n        func(*args, **kwargs)\\n    return wrapper_do_twice',\n",
       "  \"@do_twice\\ndef greet(name: str) -> None:\\n    print(f'hello {name}')\\n    \\ngreet('saeed')\",\n",
       "  \"@do_twice\\ndef say_whee() -> None:\\n    print('Whee!')\\nsay_whee()\",\n",
       "  '@do_twice\\ndef return_greeting(name: str) -> str:\\n    print(\"Creating greeting\")\\n    return f\\'hi {name}\\'',\n",
       "  \"x = return_greeting('saeed')\",\n",
       "  'def do_twice(func: Callable) -> Callable:\\n    def wrapper_do_twice(*args, **kwargs):\\n        func(*args, **kwargs)\\n        return func(*args, **kwargs)\\n    return wrapper_do_twice',\n",
       "  '@do_twice\\ndef return_greeting(name: str) -> str:\\n    print(\"Creating greeting\")\\n    return f\\'hi {name}\\'',\n",
       "  \"x = return_greeting('saeed')\\nprint(x)\",\n",
       "  'print',\n",
       "  'print.__name__',\n",
       "  'say_hello.__name__',\n",
       "  'help(say_whee)',\n",
       "  'import functools',\n",
       "  'def do_twice(func):\\n    @functoolst.wraps(func)\\n    def wrapper_do_twice(*args, **kwargs):\\n        func(*args, **kwargs)\\n        return func(*args, **kwargs)\\n    return wrapper_do_twice',\n",
       "  'say_whee',\n",
       "  'def decorator(func: Callable) -> Callable:\\n    @functools.wraps(func)\\n    def wrapper_decorator(*args, **kwargs):\\n        # Do something before\\n        value = func(*args, **kwargs)\\n        # Do something after\\n        return value\\n    return wrapper_decorator',\n",
       "  'import time',\n",
       "  'def timer(func: Callable):\\n    \\n    @functools.wraps(func)\\n    def wrapper_timer(*args, **kwargs):\\n        \\n        start_time = time.perf_counter()\\n        value = func(*args, **kwargs)\\n        end_time = time.perf_counter()\\n        total_time = end_time -start_time\\n        print(f\"Finished {func.__name__!r} in {total_time:.4f} secs\")\\n        return value\\n    return wrapper_timer',\n",
       "  '@timer\\ndef waste_some_time(num_times):\\n    for _ in range(num_times):\\n        sum([i for i in range(10000)])',\n",
       "  'x = waste_some_time(2201)',\n",
       "  'print(x)',\n",
       "  'def debug(func: Callable) -> Callable:\\n    \\n    @functools.wraps(func)\\n    def wrapper_debug(*args, **kwargs):\\n        args_repr = [repr(a) for a in args]\\n        kwargs_repr = [f\"{k}={v!r}\" for k, v in kwargs.items()]\\n        signature = \", \".join(args_repr + kwargs_repr) \\n        print(f\"Calling {func.__name__}({signature})\")\\n        value = func(*args, **kwargs)\\n        print(f\"{func.__name__!r} returned {value!r}\") \\n        return value\\n    return wrapper_debug',\n",
       "  '@debug\\ndef make_greeting(name, age=None):\\n    if age is None:\\n        return f\"Howdy {name}!\"\\n    else:\\n        return f\"Whoa {name}! {age} already, you are growing up!\"',\n",
       "  \"x = make_greeting('saeed', age=25)\",\n",
       "  'import math',\n",
       "  '@debug\\ndef approximate_e(terms=18):\\n    return sum(1 / math.factorial(n) for n in range(terms))',\n",
       "  'approximate_e(100)',\n",
       "  'def slow_down(func):\\n    \"\"\"Sleep 1 second before calling the function\"\"\"\\n    @functools.wraps(func)\\n    def wrapper_slow_down(*args, **kwargs):\\n        time.sleep(1)\\n        return func(*args, **kwargs)\\n    return wrapper_slow_down',\n",
       "  '@slow_down\\ndef countdown(from_number):\\n    if from_number < 1:\\n        print(\"Liftoff!\")\\n    else:\\n        print(from_number)\\n        countdown(from_number - 1)',\n",
       "  'countdown(3)',\n",
       "  'import random\\nPLUGINS = dict()\\n\\ndef register(func):\\n    \"\"\"Register a function as a plug-in\"\"\"\\n    PLUGINS[func.__name__] = func\\n    return func\\n\\n@register\\ndef say_hello(name):\\n    return f\"Hello {name}\"\\n\\n@register\\ndef be_awesome(name):\\n    return f\"Yo {name}, together we are the awesomest!\"\\n\\ndef randomly_greet(name):\\n    greeter, greeter_func = random.choice(list(PLUGINS.items()))\\n    print(f\"Using {greeter!r}\")\\n    return greeter_func(name)',\n",
       "  'PLUGINS',\n",
       "  'globals()'],\n",
       " 'Out': {2: <__main__.Circle at 0x7f3cce60bf10>,\n",
       "  4: <__main__.Circle at 0x7f3ccf1c8d30>,\n",
       "  6: 1,\n",
       "  9: <__main__.Circle at 0x7f3ccf1de4f0>,\n",
       "  10: 3.1415926535,\n",
       "  11: 3.1415926535,\n",
       "  12: <__main__.Circle at 0x7f3ccf1c5880>,\n",
       "  13: <bound method Circle.unit_circle of <class '__main__.Circle'>>,\n",
       "  14: <__main__.Circle at 0x7f3ccf1c5b50>,\n",
       "  15: <__main__.Circle at 0x7f3ccf1b8850>,\n",
       "  20: 3,\n",
       "  22: 'hello Bob',\n",
       "  27: 'Hi, I am lima',\n",
       "  32: 5,\n",
       "  50: <function print>,\n",
       "  51: 'print',\n",
       "  52: 'wrapper',\n",
       "  56: <function __main__.do_twice.<locals>.wrapper_do_twice(*args, **kwargs)>,\n",
       "  68: 2.7182818284590455,\n",
       "  73: {'say_hello': <function __main__.say_hello(name)>,\n",
       "   'be_awesome': <function __main__.be_awesome(name)>}},\n",
       " 'get_ipython': <bound method InteractiveShell.get_ipython of <ipykernel.zmqshell.ZMQInteractiveShell object at 0x7f3ce73886d0>>,\n",
       " 'exit': <IPython.core.autocall.ZMQExitAutocall at 0x7f3ce73b9b20>,\n",
       " 'quit': <IPython.core.autocall.ZMQExitAutocall at 0x7f3ce73b9b20>,\n",
       " '_': {'say_hello': <function __main__.say_hello(name)>,\n",
       "  'be_awesome': <function __main__.be_awesome(name)>},\n",
       " '__': 2.7182818284590455,\n",
       " '___': <function __main__.do_twice.<locals>.wrapper_do_twice(*args, **kwargs)>,\n",
       " '_i': 'PLUGINS',\n",
       " '_ii': 'import random\\nPLUGINS = dict()\\n\\ndef register(func):\\n    \"\"\"Register a function as a plug-in\"\"\"\\n    PLUGINS[func.__name__] = func\\n    return func\\n\\n@register\\ndef say_hello(name):\\n    return f\"Hello {name}\"\\n\\n@register\\ndef be_awesome(name):\\n    return f\"Yo {name}, together we are the awesomest!\"\\n\\ndef randomly_greet(name):\\n    greeter, greeter_func = random.choice(list(PLUGINS.items()))\\n    print(f\"Using {greeter!r}\")\\n    return greeter_func(name)',\n",
       " '_iii': 'countdown(3)',\n",
       " '_i1': 'class Circle:\\n    def __init__(self, radius):\\n        self._radius = radius\\n\\n    @property\\n    def radius(self):\\n        \"\"\"Get value of radius\"\"\"\\n        return self._radius\\n\\n    @radius.setter\\n    def radius(self, value):\\n        \"\"\"Set radius, raise error if negative\"\"\"\\n        if value >= 0:\\n            self._radius = value\\n        else:\\n            raise ValueError(\"Radius must be positive\")\\n\\n    @property\\n    def area(self):\\n        \"\"\"Calculate area inside circle\"\"\"\\n        return self.pi() * self.radius**2\\n\\n    def cylinder_volume(self, height):\\n        \"\"\"Calculate volume of cylinder with circle as base\"\"\"\\n        return self.area * height\\n\\n    @classmethod\\n    def unit_circle(cls):\\n        \"\"\"Factory method creating a circle with radius 1\"\"\"\\n        return cls(1)\\n\\n    @staticmethod\\n    def pi():\\n        \"\"\"Value of π, could use math.pi instead though\"\"\"\\n        return 3.1415926535',\n",
       " 'Circle': __main__.Circle,\n",
       " '_i2': 'Circle.unit_circle()',\n",
       " '_2': <__main__.Circle at 0x7f3cce60bf10>,\n",
       " '_i3': 'x = Circle.unit_circle()',\n",
       " 'x': 'Whoa saeed! 25 already, you are growing up!',\n",
       " '_i4': 'x',\n",
       " '_4': <__main__.Circle at 0x7f3ccf1c8d30>,\n",
       " '_i5': 'x.radius()',\n",
       " '_i6': 'x.radius',\n",
       " '_6': 1,\n",
       " '_i7': 'x.radius(2)',\n",
       " '_i8': 'x.setter(2)',\n",
       " '_i9': 'x.unit_circle()',\n",
       " '_9': <__main__.Circle at 0x7f3ccf1de4f0>,\n",
       " '_i10': 'x.pi()',\n",
       " '_10': 3.1415926535,\n",
       " '_i11': 'Circle.pi()',\n",
       " '_11': 3.1415926535,\n",
       " '_i12': 'x.unit_circle()',\n",
       " '_12': <__main__.Circle at 0x7f3ccf1c5880>,\n",
       " '_i13': 'x.unit_circle',\n",
       " '_13': <bound method Circle.unit_circle of <class '__main__.Circle'>>,\n",
       " '_i14': 'x.unit_circle()',\n",
       " '_14': <__main__.Circle at 0x7f3ccf1c5b50>,\n",
       " '_i15': 'Circle.unit_circle()',\n",
       " '_15': <__main__.Circle at 0x7f3ccf1b8850>,\n",
       " '_i16': 'import os\\nfrom typing import *',\n",
       " 'os': <module 'os' from '/opt/conda/lib/python3.8/os.py'>,\n",
       " 'Any': typing.Any,\n",
       " 'Callable': typing.Callable,\n",
       " 'ClassVar': typing.ClassVar,\n",
       " 'Final': typing.Final,\n",
       " 'ForwardRef': typing.ForwardRef,\n",
       " 'Generic': typing.Generic,\n",
       " 'Literal': typing.Literal,\n",
       " 'Optional': typing.Optional,\n",
       " 'Protocol': typing.Protocol,\n",
       " 'Tuple': typing.Tuple,\n",
       " 'Type': typing.Type,\n",
       " 'TypeVar': typing.TypeVar,\n",
       " 'Union': typing.Union,\n",
       " 'AbstractSet': typing.AbstractSet,\n",
       " 'ByteString': typing.ByteString,\n",
       " 'Container': typing.Container,\n",
       " 'ContextManager': typing.AbstractContextManager,\n",
       " 'Hashable': typing.Hashable,\n",
       " 'ItemsView': typing.ItemsView,\n",
       " 'Iterable': typing.Iterable,\n",
       " 'Iterator': typing.Iterator,\n",
       " 'KeysView': typing.KeysView,\n",
       " 'Mapping': typing.Mapping,\n",
       " 'MappingView': typing.MappingView,\n",
       " 'MutableMapping': typing.MutableMapping,\n",
       " 'MutableSequence': typing.MutableSequence,\n",
       " 'MutableSet': typing.MutableSet,\n",
       " 'Sequence': typing.Sequence,\n",
       " 'Sized': typing.Sized,\n",
       " 'ValuesView': typing.ValuesView,\n",
       " 'Awaitable': typing.Awaitable,\n",
       " 'AsyncIterator': typing.AsyncIterator,\n",
       " 'AsyncIterable': typing.AsyncIterable,\n",
       " 'Coroutine': typing.Coroutine,\n",
       " 'Collection': typing.Collection,\n",
       " 'AsyncGenerator': typing.AsyncGenerator,\n",
       " 'AsyncContextManager': typing.AbstractAsyncContextManager,\n",
       " 'Reversible': typing.Reversible,\n",
       " 'SupportsAbs': typing.SupportsAbs,\n",
       " 'SupportsBytes': typing.SupportsBytes,\n",
       " 'SupportsComplex': typing.SupportsComplex,\n",
       " 'SupportsFloat': typing.SupportsFloat,\n",
       " 'SupportsIndex': typing.SupportsIndex,\n",
       " 'SupportsInt': typing.SupportsInt,\n",
       " 'SupportsRound': typing.SupportsRound,\n",
       " 'ChainMap': typing.ChainMap,\n",
       " 'Counter': typing.Counter,\n",
       " 'Deque': typing.Deque,\n",
       " 'Dict': typing.Dict,\n",
       " 'DefaultDict': typing.DefaultDict,\n",
       " 'List': typing.List,\n",
       " 'OrderedDict': typing.OrderedDict,\n",
       " 'Set': typing.Set,\n",
       " 'FrozenSet': typing.FrozenSet,\n",
       " 'NamedTuple': typing.NamedTuple,\n",
       " 'TypedDict': typing.TypedDict,\n",
       " 'Generator': typing.Generator,\n",
       " 'AnyStr': ~AnyStr,\n",
       " 'cast': <function typing.cast(typ, val)>,\n",
       " 'final': <function typing.final(f)>,\n",
       " 'get_args': <function typing.get_args(tp)>,\n",
       " 'get_origin': <function typing.get_origin(tp)>,\n",
       " 'get_type_hints': <function typing.get_type_hints(obj, globalns=None, localns=None)>,\n",
       " 'NewType': <function typing.NewType(name, tp)>,\n",
       " 'no_type_check': <function typing.no_type_check(arg)>,\n",
       " 'no_type_check_decorator': <function typing.no_type_check_decorator(decorator)>,\n",
       " 'NoReturn': typing.NoReturn,\n",
       " 'overload': <function typing.overload(func)>,\n",
       " 'runtime_checkable': <function typing.runtime_checkable(cls)>,\n",
       " 'Text': str,\n",
       " 'TYPE_CHECKING': False,\n",
       " '_i17': 'class VerposeExcution(nn.Module):\\n    def __init__(\\n        self,\\n        model: nn.Module\\n    ) -> None:\\n        super(VerposeExcution,self).__init__()\\n        \\n        self.model = model\\n        \\n        for name, layer in self.model.named_children():\\n            layer.__name__ = name\\n            layer.register_forward_hook(\\n                lambda layer, _, output: print(f\"{layer.__name__}: {output.shape}\")\\n            )\\n            \\n    def forward(self, x: Tensor) -> Tensor:\\n        return self.model(x)',\n",
       " '_i18': 'from torchvision.models import resnet50',\n",
       " 'resnet50': <function torchvision.models.resnet.resnet50(pretrained=False, progress=True, **kwargs)>,\n",
       " '_i19': 'verpose = VerposeExcution(resnet50())\\ndummy = torch.ones(1,3,224,224)\\n\\n_ = verpose(dummy)',\n",
       " '_i20': 'def add_one(number: int):\\n    return number + 1\\n\\nadd_one(2)',\n",
       " 'add_one': <function __main__.add_one(number: int)>,\n",
       " '_20': 3,\n",
       " '_i21': 'def say_hello(name: str) -> str:\\n    return f\\'hello {name}\\'\\n\\ndef be_awesome(name: str) -> str:\\n    return f\"Yo {name}, together we are the awesomest!\"\\n\\ndef greet_bob(greeter_func: Callable) -> str:\\n    return greeter_func(\\'Bob\\')',\n",
       " 'say_hello': <function __main__.say_hello(name)>,\n",
       " 'be_awesome': <function __main__.be_awesome(name)>,\n",
       " 'greet_bob': <function __main__.greet_bob(greeter_func: Callable) -> str>,\n",
       " '_i22': 'greet_bob(say_hello)',\n",
       " '_22': 'hello Bob',\n",
       " '_i23': 'def parent() -> None:\\n    print(\"Printing from the parent() function\")\\n    \\n    def first_child() -> None:\\n        print(\"Printing from the _child() function\")\\n    \\n    def second_child() -> None:\\n        print(\"Printing from the second_child() function\")\\n\\n    second_child()        \\n    first_child()',\n",
       " 'parent': <function __main__.parent(num: int) -> str>,\n",
       " '_i24': 'parent()',\n",
       " '_i25': 'first_child()',\n",
       " '_i26': \"def parent(num: int) -> str:\\n    \\n    def first_child() -> str:\\n        return 'Hi, I am lima'\\n    \\n    def second_child() -> str:\\n        return 'call me lima'\\n    \\n    if num == 1:\\n        return first_child\\n    \\n    elif num == 2:\\n        return second_child\\n    \\n    else:\\n        return 'invalid input'\",\n",
       " '_i27': 'first =  parent(1)\\nfirst()',\n",
       " 'first': <function __main__.parent.<locals>.first_child() -> str>,\n",
       " '_27': 'Hi, I am lima',\n",
       " '_i28': 'def my_decorator(func: Callable) -> Callable:\\n    \\n    def wrapper():\\n        print(\"Something is happening before the function is called.\")\\n        func()\\n        print(\"Something is happening after the function is called.\")\\n        \\n    return wrapper\\n        \\ndef say_hello() -> str:\\n    print(\\'hello\\')\\n\\nsay_hello = my_decorator(say_hello)\\nsay_hello()',\n",
       " 'my_decorator': <function __main__.my_decorator(func)>,\n",
       " '_i29': 'say_hello = my_decorator(say_hello)\\nsay_hello()',\n",
       " '_i30': \"from datetime import datetime\\n\\ndef not_during_night(func: Callable) -> Callable or str:\\n    \\n    def wrapper():\\n        if 7 <= datetime.now().hour < 22:\\n            func()\\n        else:\\n            print('not allowed')\\n            \\n    return wrapper\\n\\n\\n@not_during_night\\ndef say_whee():\\n    print('Whee')\\n    \",\n",
       " 'datetime': datetime.datetime,\n",
       " 'not_during_night': <function __main__.not_during_night(func: Callable) -> Callable>,\n",
       " 'say_whee': <function __main__.do_twice.<locals>.wrapper_do_twice(*args, **kwargs)>,\n",
       " '_i31': 'say_whee()',\n",
       " '_i32': 'datetime.now().hour',\n",
       " '_32': 5,\n",
       " '_i33': 'def my_decorator(func):\\n    def wrapper():\\n        print(\"Something is happening before the function is called.\")\\n        func()\\n        print(\"Something is happening after the function is called.\")\\n    return wrapper\\n\\n@my_decorator\\ndef say_whee():\\n    print(\"Whee!\")',\n",
       " '_i34': 'say_whee()',\n",
       " '_i35': \"from datetime import datetime\\n\\ndef not_during_night(func: Callable) -> Callable or str:\\n    \\n    def wrapper():\\n        if 7 <= datetime.now().hour < 11:\\n            func()\\n        else:\\n            print('not allowed')\\n            \\n    return wrapper\\n\\n\\n@not_during_night\\ndef say_whee():\\n    print('Whee')\",\n",
       " '_i36': 'say_whee()',\n",
       " '_i37': 'def do_twice(func: Callable) -> Callable:\\n    def wrapper_do_twice():\\n        func()\\n        func()\\n    return wrapper_do_twice',\n",
       " 'do_twice': <function __main__.do_twice(func)>,\n",
       " '_i38': \"@do_twice\\ndef say_whee() -> None:\\n    print('Whee!')\",\n",
       " '_i39': 'say_whee()',\n",
       " '_i40': \"@do_twice\\ndef greet(name: str) -> None:\\n    print(f'hell {name}')\",\n",
       " 'greet': <function __main__.do_twice.<locals>.wrapper_do_twice(*args, **kwargs)>,\n",
       " '_i41': \"greet('saeed')\",\n",
       " '_i42': 'def do_twice(func: Callable) -> Callable:\\n    def wrapper_do_twice(*args, **kwargs):\\n        func(*args, **kwargs)\\n        func(*args, **kwargs)\\n    return wrapper_do_twice',\n",
       " '_i43': \"@do_twice\\ndef greet(name: str) -> None:\\n    print(f'hello {name}')\\n    \\ngreet('saeed')\",\n",
       " '_i44': \"@do_twice\\ndef say_whee() -> None:\\n    print('Whee!')\\nsay_whee()\",\n",
       " '_i45': '@do_twice\\ndef return_greeting(name: str) -> str:\\n    print(\"Creating greeting\")\\n    return f\\'hi {name}\\'',\n",
       " 'return_greeting': <function __main__.do_twice.<locals>.wrapper_do_twice(*args, **kwargs)>,\n",
       " '_i46': \"x = return_greeting('saeed')\",\n",
       " '_i47': 'def do_twice(func: Callable) -> Callable:\\n    def wrapper_do_twice(*args, **kwargs):\\n        func(*args, **kwargs)\\n        return func(*args, **kwargs)\\n    return wrapper_do_twice',\n",
       " '_i48': '@do_twice\\ndef return_greeting(name: str) -> str:\\n    print(\"Creating greeting\")\\n    return f\\'hi {name}\\'',\n",
       " '_i49': \"x = return_greeting('saeed')\\nprint(x)\",\n",
       " '_i50': 'print',\n",
       " '_50': <function print>,\n",
       " '_i51': 'print.__name__',\n",
       " '_51': 'print',\n",
       " '_i52': 'say_hello.__name__',\n",
       " '_52': 'wrapper',\n",
       " '_i53': 'help(say_whee)',\n",
       " '_i54': 'import functools',\n",
       " 'functools': <module 'functools' from '/opt/conda/lib/python3.8/functools.py'>,\n",
       " '_i55': 'def do_twice(func):\\n    @functoolst.wraps(func)\\n    def wrapper_do_twice(*args, **kwargs):\\n        func(*args, **kwargs)\\n        return func(*args, **kwargs)\\n    return wrapper_do_twice',\n",
       " '_i56': 'say_whee',\n",
       " '_56': <function __main__.do_twice.<locals>.wrapper_do_twice(*args, **kwargs)>,\n",
       " '_i57': 'def decorator(func: Callable) -> Callable:\\n    @functools.wraps(func)\\n    def wrapper_decorator(*args, **kwargs):\\n        # Do something before\\n        value = func(*args, **kwargs)\\n        # Do something after\\n        return value\\n    return wrapper_decorator',\n",
       " 'decorator': <function __main__.decorator(func: Callable) -> Callable>,\n",
       " '_i58': 'import time',\n",
       " 'time': <module 'time' (built-in)>,\n",
       " '_i59': 'def timer(func: Callable):\\n    \\n    @functools.wraps(func)\\n    def wrapper_timer(*args, **kwargs):\\n        \\n        start_time = time.perf_counter()\\n        value = func(*args, **kwargs)\\n        end_time = time.perf_counter()\\n        total_time = end_time -start_time\\n        print(f\"Finished {func.__name__!r} in {total_time:.4f} secs\")\\n        return value\\n    return wrapper_timer',\n",
       " 'timer': <function __main__.timer(func: Callable)>,\n",
       " '_i60': '@timer\\ndef waste_some_time(num_times):\\n    for _ in range(num_times):\\n        sum([i for i in range(10000)])',\n",
       " 'waste_some_time': <function __main__.waste_some_time(num_times)>,\n",
       " '_i61': 'x = waste_some_time(2201)',\n",
       " '_i62': 'print(x)',\n",
       " '_i63': 'def debug(func: Callable) -> Callable:\\n    \\n    @functools.wraps(func)\\n    def wrapper_debug(*args, **kwargs):\\n        args_repr = [repr(a) for a in args]\\n        kwargs_repr = [f\"{k}={v!r}\" for k, v in kwargs.items()]\\n        signature = \", \".join(args_repr + kwargs_repr) \\n        print(f\"Calling {func.__name__}({signature})\")\\n        value = func(*args, **kwargs)\\n        print(f\"{func.__name__!r} returned {value!r}\") \\n        return value\\n    return wrapper_debug',\n",
       " 'debug': <function __main__.debug(func: Callable) -> Callable>,\n",
       " '_i64': '@debug\\ndef make_greeting(name, age=None):\\n    if age is None:\\n        return f\"Howdy {name}!\"\\n    else:\\n        return f\"Whoa {name}! {age} already, you are growing up!\"',\n",
       " 'make_greeting': <function __main__.make_greeting(name, age=None)>,\n",
       " '_i65': \"x = make_greeting('saeed', age=25)\",\n",
       " '_i66': 'import math',\n",
       " 'math': <module 'math' from '/opt/conda/lib/python3.8/lib-dynload/math.cpython-38-x86_64-linux-gnu.so'>,\n",
       " '_i67': '@debug\\ndef approximate_e(terms=18):\\n    return sum(1 / math.factorial(n) for n in range(terms))',\n",
       " 'approximate_e': <function __main__.approximate_e(terms=18)>,\n",
       " '_i68': 'approximate_e(100)',\n",
       " '_68': 2.7182818284590455,\n",
       " '_i69': 'def slow_down(func):\\n    \"\"\"Sleep 1 second before calling the function\"\"\"\\n    @functools.wraps(func)\\n    def wrapper_slow_down(*args, **kwargs):\\n        time.sleep(1)\\n        return func(*args, **kwargs)\\n    return wrapper_slow_down',\n",
       " 'slow_down': <function __main__.slow_down(func)>,\n",
       " '_i70': '@slow_down\\ndef countdown(from_number):\\n    if from_number < 1:\\n        print(\"Liftoff!\")\\n    else:\\n        print(from_number)\\n        countdown(from_number - 1)',\n",
       " 'countdown': <function __main__.countdown(from_number)>,\n",
       " '_i71': 'countdown(3)',\n",
       " '_i72': 'import random\\nPLUGINS = dict()\\n\\ndef register(func):\\n    \"\"\"Register a function as a plug-in\"\"\"\\n    PLUGINS[func.__name__] = func\\n    return func\\n\\n@register\\ndef say_hello(name):\\n    return f\"Hello {name}\"\\n\\n@register\\ndef be_awesome(name):\\n    return f\"Yo {name}, together we are the awesomest!\"\\n\\ndef randomly_greet(name):\\n    greeter, greeter_func = random.choice(list(PLUGINS.items()))\\n    print(f\"Using {greeter!r}\")\\n    return greeter_func(name)',\n",
       " 'random': <module 'random' from '/opt/conda/lib/python3.8/random.py'>,\n",
       " 'PLUGINS': {'say_hello': <function __main__.say_hello(name)>,\n",
       "  'be_awesome': <function __main__.be_awesome(name)>},\n",
       " 'register': <function __main__.register(func)>,\n",
       " 'randomly_greet': <function __main__.randomly_greet(name)>,\n",
       " '_i73': 'PLUGINS',\n",
       " '_73': {'say_hello': <function __main__.say_hello(name)>,\n",
       "  'be_awesome': <function __main__.be_awesome(name)>},\n",
       " '_i74': 'globals()'}"
      ]
     },
     "execution_count": 74,
     "metadata": {},
     "output_type": "execute_result"
    }
   ],
   "source": [
    "globals()"
   ]
  },
  {
   "cell_type": "code",
   "execution_count": 75,
   "metadata": {},
   "outputs": [],
   "source": [
    "def det_tyep(func):\n",
    "    \n",
    "    @functools.wraps(func)\n",
    "    def wrapper_type(*args, **kwargs):\n",
    "        \n",
    "        value = func(*args, **kwargs)\n",
    "        \n",
    "        return f'this input of type {value}'\n",
    "    \n",
    "    return wrapper_type"
   ]
  },
  {
   "cell_type": "code",
   "execution_count": 76,
   "metadata": {},
   "outputs": [
    {
     "data": {
      "text/plain": [
       "\"this input of type <class 'list'>\""
      ]
     },
     "execution_count": 76,
     "metadata": {},
     "output_type": "execute_result"
    }
   ],
   "source": [
    "@det_tyep\n",
    "def return_tyep(inputx):\n",
    "    return type(inputx)\n",
    "    \n",
    "return_tyep([5])    \n",
    "    "
   ]
  },
  {
   "cell_type": "code",
   "execution_count": 77,
   "metadata": {},
   "outputs": [
    {
     "data": {
      "text/plain": [
       "int"
      ]
     },
     "execution_count": 77,
     "metadata": {},
     "output_type": "execute_result"
    }
   ],
   "source": [
    "type(5)"
   ]
  },
  {
   "cell_type": "code",
   "execution_count": 78,
   "metadata": {},
   "outputs": [],
   "source": [
    "class Circle:\n",
    "    def __init__(self, radius):\n",
    "        self._radius = radius\n",
    "\n",
    "    @property\n",
    "    def radius(self):\n",
    "        \"\"\"Get value of radius\"\"\"\n",
    "        return self._radius\n",
    "\n",
    "    @radius.setter\n",
    "    def radius(self, value):\n",
    "        \"\"\"Set radius, raise error if negative\"\"\"\n",
    "        if value >= 0:\n",
    "            self._radius = value\n",
    "        else:\n",
    "            raise ValueError(\"Radius must be positive\")\n",
    "\n",
    "    @property\n",
    "    def area(self):\n",
    "        \"\"\"Calculate area inside circle\"\"\"\n",
    "        return self.pi() * self.radius**2\n",
    "\n",
    "    def cylinder_volume(self, height):\n",
    "        \"\"\"Calculate volume of cylinder with circle as base\"\"\"\n",
    "        return self.area * height\n",
    "\n",
    "    @classmethod\n",
    "    def unit_circle(cls):\n",
    "        \"\"\"Factory method creating a circle with radius 1\"\"\"\n",
    "        return cls(1)\n",
    "\n",
    "    @staticmethod\n",
    "    def pi():\n",
    "        \"\"\"Value of π, could use math.pi instead though\"\"\"\n",
    "        return 3.1415926535"
   ]
  },
  {
   "cell_type": "code",
   "execution_count": 79,
   "metadata": {},
   "outputs": [],
   "source": [
    "x = Circle.unit_circle()"
   ]
  },
  {
   "cell_type": "code",
   "execution_count": 80,
   "metadata": {},
   "outputs": [
    {
     "data": {
      "text/plain": [
       "<__main__.Circle at 0x7f3c11837f40>"
      ]
     },
     "execution_count": 80,
     "metadata": {},
     "output_type": "execute_result"
    }
   ],
   "source": [
    "Circle.unit_circle()"
   ]
  },
  {
   "cell_type": "code",
   "execution_count": 81,
   "metadata": {},
   "outputs": [
    {
     "ename": "AttributeError",
     "evalue": "'Circle' object has no attribute 'setter'",
     "output_type": "error",
     "traceback": [
      "\u001b[0;31m---------------------------------------------------------------------------\u001b[0m",
      "\u001b[0;31mAttributeError\u001b[0m                            Traceback (most recent call last)",
      "\u001b[0;32m<ipython-input-81-60611f9d1595>\u001b[0m in \u001b[0;36m<module>\u001b[0;34m\u001b[0m\n\u001b[0;32m----> 1\u001b[0;31m \u001b[0mx\u001b[0m\u001b[0;34m.\u001b[0m\u001b[0msetter\u001b[0m\u001b[0;34m(\u001b[0m\u001b[0;36m2\u001b[0m\u001b[0;34m)\u001b[0m\u001b[0;34m\u001b[0m\u001b[0;34m\u001b[0m\u001b[0m\n\u001b[0m",
      "\u001b[0;31mAttributeError\u001b[0m: 'Circle' object has no attribute 'setter'"
     ]
    }
   ],
   "source": [
    "x.setter(2)"
   ]
  },
  {
   "cell_type": "code",
   "execution_count": 83,
   "metadata": {},
   "outputs": [],
   "source": [
    "class TimeWaster:\n",
    "    @debug\n",
    "    def __init__(self, max_num):\n",
    "        self.max_num = max_num\n",
    "    @timer\n",
    "    def waste_time(self,num_times):\n",
    "        for _ in range(num_times):\n",
    "            sum([i**2 for i in range(self.max_num)])"
   ]
  },
  {
   "cell_type": "code",
   "execution_count": 85,
   "metadata": {},
   "outputs": [
    {
     "name": "stdout",
     "output_type": "stream",
     "text": [
      "Calling __init__(<__main__.TimeWaster object at 0x7f3c117d37c0>, 100)\n",
      "'__init__' returned None\n"
     ]
    }
   ],
   "source": [
    "tw = TimeWaster(100)"
   ]
  },
  {
   "cell_type": "code",
   "execution_count": 86,
   "metadata": {},
   "outputs": [
    {
     "name": "stdout",
     "output_type": "stream",
     "text": [
      "Finished 'waste_time' in 0.0420 secs\n"
     ]
    }
   ],
   "source": [
    "tw.waste_time(999)"
   ]
  },
  {
   "cell_type": "code",
   "execution_count": 87,
   "metadata": {},
   "outputs": [],
   "source": [
    "from dataclasses import dataclass\n",
    "\n",
    "@dataclass\n",
    "class PlayingCard:\n",
    "    rank: str\n",
    "    suit: str"
   ]
  },
  {
   "cell_type": "code",
   "execution_count": 90,
   "metadata": {},
   "outputs": [],
   "source": [
    "@timer\n",
    "class TimeWaster:\n",
    "    def __init__(self, max_num):\n",
    "        self.max_num = max_num\n",
    "\n",
    "    def waste_time(self, num_times):\n",
    "        for _ in range(num_times):\n",
    "            sum([i**2 for i in range(self.max_num)])"
   ]
  },
  {
   "cell_type": "code",
   "execution_count": 91,
   "metadata": {},
   "outputs": [
    {
     "name": "stdout",
     "output_type": "stream",
     "text": [
      "Finished 'TimeWaster' in 0.0000 secs\n"
     ]
    }
   ],
   "source": [
    "tw = TimeWaster(1000)"
   ]
  },
  {
   "cell_type": "code",
   "execution_count": 92,
   "metadata": {},
   "outputs": [],
   "source": [
    "tw.waste_time(999)"
   ]
  },
  {
   "cell_type": "code",
   "execution_count": 112,
   "metadata": {},
   "outputs": [],
   "source": [
    "def repeat(num_times):\n",
    "    def decorator_repeat(func):\n",
    "        @functools.wraps(func)\n",
    "        def wrapper_repeat(*args, **kwargs):\n",
    "            for _ in range(num_times):\n",
    "                value = func(*args, **kwargs)\n",
    "            return value\n",
    "        return wrapper_repeat\n",
    "    return decorator_repeat"
   ]
  },
  {
   "cell_type": "code",
   "execution_count": 113,
   "metadata": {},
   "outputs": [],
   "source": [
    "@repeat(num_times=4)\n",
    "def greet(name):\n",
    "    print(f\"Hello {name}\")"
   ]
  },
  {
   "cell_type": "code",
   "execution_count": 114,
   "metadata": {},
   "outputs": [
    {
     "name": "stdout",
     "output_type": "stream",
     "text": [
      "Hello saeed\n",
      "Hello saeed\n",
      "Hello saeed\n",
      "Hello saeed\n"
     ]
    }
   ],
   "source": [
    " greet('saeed')"
   ]
  },
  {
   "cell_type": "code",
   "execution_count": 100,
   "metadata": {},
   "outputs": [
    {
     "ename": "SyntaxError",
     "evalue": "invalid syntax (<ipython-input-100-363c6d1d391e>, line 1)",
     "output_type": "error",
     "traceback": [
      "\u001b[0;36m  File \u001b[0;32m\"<ipython-input-100-363c6d1d391e>\"\u001b[0;36m, line \u001b[0;32m1\u001b[0m\n\u001b[0;31m    def repeat(4):\u001b[0m\n\u001b[0m               ^\u001b[0m\n\u001b[0;31mSyntaxError\u001b[0m\u001b[0;31m:\u001b[0m invalid syntax\n"
     ]
    }
   ],
   "source": [
    "def repeat(4):\n",
    "    def decorator_repeat(greet):\n",
    "        @functools.wraps(greet)\n",
    "        def wrapper_repeat(name):\n",
    "            for _ in range(4):\n",
    "                value = greet(name)\n",
    "            return value\n",
    "        return wrapper_repeat\n",
    "    return decorator_repeat"
   ]
  },
  {
   "cell_type": "code",
   "execution_count": 209,
   "metadata": {},
   "outputs": [],
   "source": [
    "class Square_Area:\n",
    "    def __init__(self, area_f):\n",
    "        functools.update_wrapper(self, area_f)\n",
    "        self.area_f = area_f\n",
    "\n",
    "    \n",
    "    def __call__(self,**kwargs):\n",
    "        print(f'square areas is {self.area_f(kwargs)}')"
   ]
  },
  {
   "cell_type": "code",
   "execution_count": 210,
   "metadata": {},
   "outputs": [],
   "source": [
    "@Square_Area\n",
    "def sq_area(length = 1):\n",
    "    return length**2"
   ]
  },
  {
   "cell_type": "code",
   "execution_count": 213,
   "metadata": {},
   "outputs": [
    {
     "ename": "TypeError",
     "evalue": "unsupported operand type(s) for ** or pow(): 'dict' and 'int'",
     "output_type": "error",
     "traceback": [
      "\u001b[0;31m---------------------------------------------------------------------------\u001b[0m",
      "\u001b[0;31mTypeError\u001b[0m                                 Traceback (most recent call last)",
      "\u001b[0;32m<ipython-input-213-9872610f0425>\u001b[0m in \u001b[0;36m<module>\u001b[0;34m\u001b[0m\n\u001b[0;32m----> 1\u001b[0;31m \u001b[0msq_area\u001b[0m\u001b[0;34m(\u001b[0m\u001b[0mlength\u001b[0m\u001b[0;34m=\u001b[0m\u001b[0;36m5\u001b[0m\u001b[0;34m)\u001b[0m\u001b[0;34m\u001b[0m\u001b[0;34m\u001b[0m\u001b[0m\n\u001b[0m",
      "\u001b[0;32m<ipython-input-209-3b21d2da74bf>\u001b[0m in \u001b[0;36m__call__\u001b[0;34m(self, **kwargs)\u001b[0m\n\u001b[1;32m      6\u001b[0m \u001b[0;34m\u001b[0m\u001b[0m\n\u001b[1;32m      7\u001b[0m     \u001b[0;32mdef\u001b[0m \u001b[0m__call__\u001b[0m\u001b[0;34m(\u001b[0m\u001b[0mself\u001b[0m\u001b[0;34m,\u001b[0m\u001b[0;34m**\u001b[0m\u001b[0mkwargs\u001b[0m\u001b[0;34m)\u001b[0m\u001b[0;34m:\u001b[0m\u001b[0;34m\u001b[0m\u001b[0;34m\u001b[0m\u001b[0m\n\u001b[0;32m----> 8\u001b[0;31m         \u001b[0mprint\u001b[0m\u001b[0;34m(\u001b[0m\u001b[0;34mf'square areas is {self.area_f(kwargs)}'\u001b[0m\u001b[0;34m)\u001b[0m\u001b[0;34m\u001b[0m\u001b[0;34m\u001b[0m\u001b[0m\n\u001b[0m",
      "\u001b[0;32m<ipython-input-210-09ca5346e369>\u001b[0m in \u001b[0;36msq_area\u001b[0;34m(length)\u001b[0m\n\u001b[1;32m      1\u001b[0m \u001b[0;34m@\u001b[0m\u001b[0mSquare_Area\u001b[0m\u001b[0;34m\u001b[0m\u001b[0;34m\u001b[0m\u001b[0m\n\u001b[1;32m      2\u001b[0m \u001b[0;32mdef\u001b[0m \u001b[0msq_area\u001b[0m\u001b[0;34m(\u001b[0m\u001b[0mlength\u001b[0m \u001b[0;34m=\u001b[0m \u001b[0;36m1\u001b[0m\u001b[0;34m)\u001b[0m\u001b[0;34m:\u001b[0m\u001b[0;34m\u001b[0m\u001b[0;34m\u001b[0m\u001b[0m\n\u001b[0;32m----> 3\u001b[0;31m     \u001b[0;32mreturn\u001b[0m \u001b[0mlength\u001b[0m\u001b[0;34m**\u001b[0m\u001b[0;36m2\u001b[0m\u001b[0;34m\u001b[0m\u001b[0;34m\u001b[0m\u001b[0m\n\u001b[0m",
      "\u001b[0;31mTypeError\u001b[0m: unsupported operand type(s) for ** or pow(): 'dict' and 'int'"
     ]
    }
   ],
   "source": [
    "sq_area(length=5)"
   ]
  },
  {
   "cell_type": "code",
   "execution_count": 165,
   "metadata": {},
   "outputs": [],
   "source": [
    "import functools\n",
    "\n",
    "class CountCalls:\n",
    "    def __init__(self, func):\n",
    "        functools.update_wrapper(self, func)\n",
    "        self.func = func\n",
    "        self.num_calls = 0\n",
    "\n",
    "    def __call__(self, *args, **kwargs):\n",
    "        self.num_calls += 1\n",
    "        print(f\"Call {self.num_calls} of {self.func.__name__!r}\")\n",
    "        return self.func(*args, **kwargs)"
   ]
  },
  {
   "cell_type": "code",
   "execution_count": 173,
   "metadata": {},
   "outputs": [],
   "source": [
    "@CountCalls\n",
    "def say_whee():\n",
    "    print(\"Whee!\")"
   ]
  },
  {
   "cell_type": "code",
   "execution_count": 177,
   "metadata": {},
   "outputs": [],
   "source": [
    "count =  CountCalls(say_whee)"
   ]
  },
  {
   "cell_type": "code",
   "execution_count": 186,
   "metadata": {},
   "outputs": [
    {
     "name": "stdout",
     "output_type": "stream",
     "text": [
      "Call 8 of 'say_whee'\n",
      "Whee!\n"
     ]
    }
   ],
   "source": [
    "count()"
   ]
  },
  {
   "cell_type": "code",
   "execution_count": null,
   "metadata": {},
   "outputs": [],
   "source": []
  }
 ],
 "metadata": {
  "kernelspec": {
   "display_name": "Python 3",
   "language": "python",
   "name": "python3"
  },
  "language_info": {
   "codemirror_mode": {
    "name": "ipython",
    "version": 3
   },
   "file_extension": ".py",
   "mimetype": "text/x-python",
   "name": "python",
   "nbconvert_exporter": "python",
   "pygments_lexer": "ipython3",
   "version": "3.8.3"
  }
 },
 "nbformat": 4,
 "nbformat_minor": 4
}
