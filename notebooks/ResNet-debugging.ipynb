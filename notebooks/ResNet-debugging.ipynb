{
 "cells": [
  {
   "cell_type": "code",
   "execution_count": 38,
   "metadata": {},
   "outputs": [],
   "source": [
    "import os\n",
    "import numpy as np\n",
    "import pandas as pd\n",
    "import PIL.Image as Image\n",
    "\n",
    "import torch \n",
    "import torch.nn as nn\n",
    "import torch.functional as F\n",
    "\n",
    "from torchvision.transforms import Compose, ToTensor, Resize\n",
    "\n",
    "from collections import namedtuple\n"
   ]
  },
  {
   "cell_type": "code",
   "execution_count": 39,
   "metadata": {},
   "outputs": [],
   "source": [
    "test_image = os.path.join('..','data','down-stream','binary','Normal','1.jpg')"
   ]
  },
  {
   "cell_type": "code",
   "execution_count": 40,
   "metadata": {},
   "outputs": [],
   "source": [
    "class ConvBlock(nn.Module):\n",
    "    def __init__(self,**kwargs):\n",
    "        super(ConvBlock,self).__init__()\n",
    "        \n",
    "        self.block = nn.Sequential(nn.Conv2d(**kwargs),\n",
    "                                   nn.BatchNorm2d(kwargs['out_channels']))\n",
    "    \n",
    "    def forward(self,x):\n",
    "        x = self.block(x)\n",
    "        return x"
   ]
  },
  {
   "cell_type": "code",
   "execution_count": 41,
   "metadata": {},
   "outputs": [],
   "source": [
    "test_image = Image.open(test_image)"
   ]
  },
  {
   "cell_type": "code",
   "execution_count": 42,
   "metadata": {},
   "outputs": [],
   "source": [
    "transforms = Compose([Resize((224,224)),\n",
    "    ToTensor()\n",
    "    ])"
   ]
  },
  {
   "cell_type": "code",
   "execution_count": 43,
   "metadata": {},
   "outputs": [
    {
     "data": {
      "text/plain": [
       "torch.Size([1, 3, 224, 224])"
      ]
     },
     "execution_count": 43,
     "metadata": {},
     "output_type": "execute_result"
    }
   ],
   "source": [
    "test_image = transforms(test_image).unsqueeze(0)\n",
    "test_image.shape"
   ]
  },
  {
   "cell_type": "code",
   "execution_count": 44,
   "metadata": {},
   "outputs": [],
   "source": [
    "test = ConvBlock(in_channels=3,out_channels=64,kernel_size=3, padding= 1)"
   ]
  },
  {
   "cell_type": "code",
   "execution_count": 45,
   "metadata": {},
   "outputs": [
    {
     "data": {
      "text/plain": [
       "torch.Size([1, 64, 224, 224])"
      ]
     },
     "execution_count": 45,
     "metadata": {},
     "output_type": "execute_result"
    }
   ],
   "source": [
    "test(test_image).shape"
   ]
  },
  {
   "cell_type": "code",
   "execution_count": 64,
   "metadata": {},
   "outputs": [],
   "source": [
    "class BasicBlock(nn.Module):\n",
    "    expansion = 1\n",
    "    def __init__(self,in_channels,out_channels,stride = 1,downsample = False):\n",
    "        super(BasicBlock,self).__init__()\n",
    "        \n",
    "        self.conv1 = ConvBlock(in_channels= in_channels, out_channels= out_channels, stride= stride,\n",
    "                                kernel_size= 3, padding= 1, bias= False)\n",
    "        \n",
    "        self.conv2 = ConvBlock(in_channels= out_channels, out_channels= out_channels, stride= 1,\n",
    "                                kernel_size = 3, padding= 1, bias= False)\n",
    "        \n",
    "        self.relu = nn.ReLU(inplace= True)\n",
    "        \n",
    "        if downsample:\n",
    "            self.downsample = ConvBlock(in_channels= in_channels, out_channels= out_channels,\n",
    "                                        kernel_size= 1, stride= 2, bias= False)\n",
    "        else:\n",
    "            self.downsample = None\n",
    "            \n",
    "        \n",
    "    def forward(self, x):\n",
    "        identity = x\n",
    "        x = self.conv1(x)\n",
    "        x = self.relu(x)\n",
    "        x = self.conv2(x)\n",
    "            \n",
    "        if self.downsample != None:\n",
    "            identity = self.downsample(identity)\n",
    "        x += identity\n",
    "        x = self.relu(x)\n",
    "            \n",
    "        return x"
   ]
  },
  {
   "cell_type": "code",
   "execution_count": 65,
   "metadata": {},
   "outputs": [],
   "source": [
    "test = BasicBlock(in_channels= 3, out_channels= 64, stride= 2, downsample= True)"
   ]
  },
  {
   "cell_type": "code",
   "execution_count": 66,
   "metadata": {},
   "outputs": [
    {
     "data": {
      "text/plain": [
       "torch.Size([1, 64, 112, 112])"
      ]
     },
     "execution_count": 66,
     "metadata": {},
     "output_type": "execute_result"
    }
   ],
   "source": [
    "test(test_image).shape"
   ]
  },
  {
   "cell_type": "code",
   "execution_count": 87,
   "metadata": {},
   "outputs": [],
   "source": [
    "class Bottleneck(nn.Module):\n",
    "    \n",
    "    expansion = 4\n",
    "    def __init__(self,in_channels, out_channels, stride= 1, downsample= False):\n",
    "        super(Bottleneck,self).__init__()\n",
    "        \n",
    "        self.conv1 = ConvBlock(in_channels= in_channels, out_channels= out_channels, stride= 1,\n",
    "                               kernel_size= 1, bias= False)\n",
    "        \n",
    "        self.conv2 = ConvBlock(in_channels= out_channels, out_channels= out_channels, stride= stride,\n",
    "                               kernel_size= 3, padding= 1, bias= False)\n",
    "        \n",
    "        self.conv3 = ConvBlock(in_channels= out_channels, out_channels= out_channels * self.expansion, \n",
    "                               stride= 1, kernel_size= 1, bias= False)\n",
    "        \n",
    "        self.relu = nn.ReLU(inplace= True)\n",
    "        \n",
    "        \n",
    "        if downsample:\n",
    "            self.downsample = ConvBlock(in_channels= in_channels, out_channels= out_channels * self.expansion,\n",
    "                                        kernel_size=1, stride= stride, bias= False)\n",
    "        else:\n",
    "            self.downsample = None\n",
    "            \n",
    "    \n",
    "    def forward(self,x):\n",
    "        identity = x\n",
    "        x = self.conv1(x)\n",
    "        x = self.relu(x)\n",
    "        x = self.conv2(x)\n",
    "        x = self.relu(x)\n",
    "        x = self.conv3(x)\n",
    "        \n",
    "        if self.downsample != None:\n",
    "            identity = self.downsample(identity)\n",
    "            \n",
    "        x += identity\n",
    "        x = self.relu(x)\n",
    "        \n",
    "        return x\n",
    "    "
   ]
  },
  {
   "cell_type": "code",
   "execution_count": 68,
   "metadata": {},
   "outputs": [],
   "source": [
    "test = Bottleneck(in_channels= 3, out_channels= 64, stride= 2, downsample= True)"
   ]
  },
  {
   "cell_type": "code",
   "execution_count": 69,
   "metadata": {},
   "outputs": [
    {
     "data": {
      "text/plain": [
       "torch.Size([1, 256, 112, 112])"
      ]
     },
     "execution_count": 69,
     "metadata": {},
     "output_type": "execute_result"
    }
   ],
   "source": [
    "test(test_image).shape"
   ]
  },
  {
   "cell_type": "code",
   "execution_count": 165,
   "metadata": {},
   "outputs": [],
   "source": [
    "class ResNet(nn.Module):\n",
    "    def __init__(self,config, output_dim= None, clf= True,image_channels=3):\n",
    "        super(ResNet, self).__init__()\n",
    "    \n",
    "        block, n_blocks, channels = config\n",
    "        self.image_channels= image_channels\n",
    "        self.clf = clf\n",
    "        self.in_channels = channels[0]\n",
    "    \n",
    "        assert len(n_blocks) == len(channels) == 4\n",
    "    \n",
    "        self.conv1 = ConvBlock(in_channels= self.image_channels, out_channels= self.in_channels,kernel_size= 7, stride=2,\n",
    "                           padding= 3, bias= False)\n",
    "        self.relu = nn.ReLU(inplace= True)\n",
    "        self.max_pool = nn.MaxPool2d(kernel_size= 3, stride= 2, padding=1)\n",
    "        \n",
    "    \n",
    "        self.conv2_x = self._make_layer(block, n_blocks[0],channels[0])\n",
    "        self.conv3_x = self._make_layer(block, n_blocks[1],channels[1], stride= 2)\n",
    "        self.conv4_x = self._make_layer(block, n_blocks[2],channels[2], stride= 2)\n",
    "        self.conv5_x = self._make_layer(block, n_blocks[3],channels[3], stride= 2)\n",
    "    \n",
    "        self.avgpool = nn.AdaptiveAvgPool2d((1,1))\n",
    "        self.fc = nn.Linear(self.in_channels, output_dim)\n",
    "    \n",
    "    \n",
    "    \n",
    "    def forward(self, x):\n",
    "        \n",
    "        x = self.conv1(x)\n",
    "        x = self.relu(x)\n",
    "        x = self.max_pool(x)\n",
    "        x = self.conv2_x(x)\n",
    "        x = self.conv3_x(x)\n",
    "        x = self.conv4_x(x)\n",
    "        x = self.conv5_x(x)\n",
    "        \n",
    "        if self.clf:\n",
    "            x = self.avgpool(x)\n",
    "            x = x.view(x.shape[0], -1)\n",
    "            x = self.fc(x)\n",
    "        \n",
    "        return x\n",
    "    \n",
    "    \n",
    "    \n",
    "    def _make_layer(self,block, n_blocks, channels, stride= 1):\n",
    "        \n",
    "        layers = []\n",
    "        if self.in_channels != block.expansion * channels:\n",
    "            downsample = True\n",
    "        else:\n",
    "            downsample = False\n",
    "            \n",
    "        layers.append(block(self.in_channels,channels,stride,downsample))\n",
    "        \n",
    "        for i in range(1,n_blocks):\n",
    "            layers.append(block(block.expansion * channels, channels))\n",
    "            \n",
    "        self.in_channels = block.expansion * channels\n",
    "        \n",
    "        return nn.Sequential(*layers)\n",
    "    "
   ]
  },
  {
   "cell_type": "code",
   "execution_count": 166,
   "metadata": {},
   "outputs": [],
   "source": [
    "ResNetConfig = namedtuple('ResNetConfig', ['block', 'n_blocks', 'channels'])"
   ]
  },
  {
   "cell_type": "code",
   "execution_count": 167,
   "metadata": {},
   "outputs": [],
   "source": [
    "resnet18_config = ResNetConfig(block = BasicBlock,\n",
    "                               n_blocks = [2,2,2,2],\n",
    "                               channels = [64, 128, 256, 512])\n",
    "\n",
    "resnet34_config = ResNetConfig(block = BasicBlock,\n",
    "                               n_blocks = [3,4,6,3],\n",
    "                               channels = [64, 128, 256, 512])\n",
    "\n",
    "resnet50_config = ResNetConfig(block = Bottleneck,\n",
    "                               n_blocks = [3, 4, 6, 3],\n",
    "                               channels = [64, 128, 256, 512])\n",
    "\n",
    "resnet101_config = ResNetConfig(block = Bottleneck,\n",
    "                                n_blocks = [3, 4, 23, 3],\n",
    "                                channels = [64, 128, 256, 512])\n",
    "\n",
    "resnet152_config = ResNetConfig(block = Bottleneck,\n",
    "                                n_blocks = [3, 8, 36, 3],\n",
    "                                channels = [64, 128, 256, 512])"
   ]
  },
  {
   "cell_type": "code",
   "execution_count": 170,
   "metadata": {},
   "outputs": [
    {
     "data": {
      "text/plain": [
       "torch.Size([1, 200])"
      ]
     },
     "execution_count": 170,
     "metadata": {},
     "output_type": "execute_result"
    }
   ],
   "source": [
    "model= ResNet(resnet50_config, output_dim=200, image_channels=3, clf =True)\n",
    "model(test_image).shape"
   ]
  },
  {
   "cell_type": "code",
   "execution_count": 125,
   "metadata": {},
   "outputs": [
    {
     "name": "stdout",
     "output_type": "stream",
     "text": [
      "The model has 23,917,832 trainable parameters\n"
     ]
    }
   ],
   "source": [
    "def count_parameters(model):\n",
    "    return sum(p.numel() for p in model.parameters() if p.requires_grad)\n",
    "\n",
    "print(f'The model has {count_parameters(model):,} trainable parameters')"
   ]
  },
  {
   "cell_type": "code",
   "execution_count": 180,
   "metadata": {},
   "outputs": [],
   "source": [
    "def resnet18(output_dim,image_channels, clf):\n",
    "    config = resnet18_config\n",
    "    return ResNet(config,output_dim=output_dim,clf= clf,image_channels=image_channels)"
   ]
  },
  {
   "cell_type": "code",
   "execution_count": 181,
   "metadata": {},
   "outputs": [],
   "source": [
    "model = resnet18(output_dim=200,clf= True, image_channels=3)"
   ]
  },
  {
   "cell_type": "code",
   "execution_count": 184,
   "metadata": {},
   "outputs": [
    {
     "data": {
      "text/plain": [
       "__main__.ResNet"
      ]
     },
     "execution_count": 184,
     "metadata": {},
     "output_type": "execute_result"
    }
   ],
   "source": [
    "type(model)"
   ]
  },
  {
   "cell_type": "code",
   "execution_count": 183,
   "metadata": {},
   "outputs": [
    {
     "name": "stdout",
     "output_type": "stream",
     "text": [
      "The model has 11,279,112 trainable parameters\n"
     ]
    }
   ],
   "source": [
    "def count_parameters(model):\n",
    "    return sum(p.numel() for p in model.parameters() if p.requires_grad)\n",
    "\n",
    "print(f'The model has {count_parameters(model):,} trainable parameters')"
   ]
  },
  {
   "cell_type": "code",
   "execution_count": null,
   "metadata": {},
   "outputs": [],
   "source": []
  }
 ],
 "metadata": {
  "kernelspec": {
   "display_name": "Python 3",
   "language": "python",
   "name": "python3"
  },
  "language_info": {
   "codemirror_mode": {
    "name": "ipython",
    "version": 3
   },
   "file_extension": ".py",
   "mimetype": "text/x-python",
   "name": "python",
   "nbconvert_exporter": "python",
   "pygments_lexer": "ipython3",
   "version": "3.8.3"
  }
 },
 "nbformat": 4,
 "nbformat_minor": 4
}
