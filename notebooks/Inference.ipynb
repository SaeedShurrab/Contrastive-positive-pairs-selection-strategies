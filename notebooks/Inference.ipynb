{
 "cells": [
  {
   "cell_type": "code",
   "execution_count": 1,
   "id": "90551b91",
   "metadata": {},
   "outputs": [],
   "source": [
    "import os\n",
    "os.chdir('/src')\n",
    "import mlflow\n",
    "import torch\n",
    "import pytorch_lightning as pl\n",
    "from src.modules.downstream.classification import ClassificationModel\n",
    "from src.data.downstream.datasets import DownStreamDataModule\n",
    "from src.modules.utils import MLFlowLoggerCheckpointer\n",
    "from pytorch_lightning.callbacks import ModelCheckpoint, LearningRateMonitor, EarlyStopping\n",
    "from src.modules.utils import parse_weights\n",
    "from torch.nn import functional as F\n",
    "from torchvision.models import resnet18\n",
    "import boto3\n",
    "from torchmetrics.functional import confusion_matrix\n",
    "import seaborn as sns\n",
    "from tqdm.notebook import tqdm\n",
    "from torch.utils.data import DataLoader\n",
    "from src.data.downstream.datasets import ClassificationDataset\n",
    "import matplotlib.pyplot as plt"
   ]
  },
  {
   "cell_type": "code",
   "execution_count": 2,
   "id": "5d59ab63",
   "metadata": {},
   "outputs": [],
   "source": [
    "classification_problem = 'multi-class'\n",
    "training_scheme = 'from-scratch'\n",
    "ssl_model = 'SimSiam'\n",
    "strategy = 'unrestricted'\n",
    "version = ''\n",
    "data_dir = os.path.join('./','data','down-stream')\n",
    "batch_size = 8\n",
    "num_workers = 0\n",
    "pin_memory = False\n",
    "optimizer = 'adam'\n",
    "learning_rate = 0.000001 \n",
    "weight_decay = 0.01\n",
    "scheduler = 'cosine'\n",
    "epochs = 100\n",
    "tracking_uri = 'file:///src/logs'\n",
    "monitor_quantity = 'val_loss'\n",
    "monitor_mode = 'min'\n",
    "es_delta = 0.001\n",
    "es_patience = 3\n",
    "ngpus = 0\n",
    "precision = 32\n",
    "log_every_n = 1\n",
    "ckpt_path = './epoch=61-step=17049.ckpt'"
   ]
  },
  {
   "cell_type": "code",
   "execution_count": 3,
   "id": "bcf942c9",
   "metadata": {},
   "outputs": [
    {
     "name": "stdout",
     "output_type": "stream",
     "text": [
      "./data/down-stream/multi-class 8\n"
     ]
    }
   ],
   "source": [
    "if classification_problem == 'binary':\n",
    "    data_dir = os.path.join(data_dir,'binary')\n",
    "    output_dim = 2\n",
    "    print(data_dir, output_dim)\n",
    "\n",
    "elif classification_problem =='multi-class':\n",
    "    data_dir = os.path.join(data_dir,'multi-class')\n",
    "    output_dim = 8\n",
    "    print(data_dir,output_dim)\n",
    "\n",
    "elif classification_problem == 'grading':\n",
    "    disease = 'CNV'\n",
    "    #input('please enter disease name from (CSR, MRO, GA, CNV, FMH, PMH, VMT): ')\n",
    "    data_dir = os.path.join(data_dir,'grading',disease) \n",
    "    output_dim = 3\n",
    "    print(data_dir,output_dim) "
   ]
  },
  {
   "cell_type": "code",
   "execution_count": 4,
   "id": "d6b1a7ba",
   "metadata": {},
   "outputs": [
    {
     "name": "stdout",
     "output_type": "stream",
     "text": [
      "[0.0, 0.15, 0.15, 0.15, 0.15, 0.15, 0.15, 0.15]\n"
     ]
    }
   ],
   "source": [
    "data_module = DownStreamDataModule(data_dir=data_dir,\n",
    "                                   form=classification_problem,\n",
    "                                   training_transforms=None,\n",
    "                                   val_test_transforms=None,\n",
    "                                   batch_size=batch_size,\n",
    "                                   num_workers=num_workers,\n",
    "                                   pin_memory=pin_memory\n",
    "                                  )"
   ]
  },
  {
   "cell_type": "code",
   "execution_count": 5,
   "id": "6bcc24e4",
   "metadata": {},
   "outputs": [],
   "source": [
    "if training_scheme in ['linear', 'transfer-learning']:\n",
    "    freeze = True\n",
    "else:\n",
    "    freeze = False"
   ]
  },
  {
   "cell_type": "code",
   "execution_count": 6,
   "id": "8d329a02",
   "metadata": {},
   "outputs": [],
   "source": [
    "model = ClassificationModel(model=resnet18,\n",
    "                            criterion=F.cross_entropy,\n",
    "                            optimizer=optimizer,\n",
    "                            learning_rate=learning_rate,\n",
    "                            weight_decay=weight_decay,\n",
    "                            scheduler=scheduler,\n",
    "                            #sched_step_size=args.scheduler_step,\n",
    "                            #sched_gamma=args.scheduler_gamma,\n",
    "                            output_dim=output_dim,\n",
    "                            freeze= freeze,\n",
    "                            max_epochs=epochs\n",
    "                            )"
   ]
  },
  {
   "cell_type": "code",
   "execution_count": 7,
   "id": "61f8fa52",
   "metadata": {},
   "outputs": [],
   "source": [
    "mlflow_logger = MLFlowLoggerCheckpointer(experiment_name=training_scheme, \n",
    "                                         tracking_uri=tracking_uri,\n",
    "                                         run_name=' '.join([ssl_model, strategy, classification_problem]),\n",
    "                                         tags={'training-scheme': training_scheme,\n",
    "                                               'ssl-model':ssl_model,\n",
    "                                               'strategy':strategy,\n",
    "                                               'classification-problem': classification_problem,\n",
    "                                               'Version': version,\n",
    "                                              }\n",
    "                                        )"
   ]
  },
  {
   "cell_type": "code",
   "execution_count": 8,
   "id": "846c229c",
   "metadata": {},
   "outputs": [],
   "source": [
    "checkpoint_callback = ModelCheckpoint(monitor=monitor_quantity, \n",
    "                                      mode= monitor_mode\n",
    "                                     )"
   ]
  },
  {
   "cell_type": "code",
   "execution_count": 9,
   "id": "9c980e5f",
   "metadata": {},
   "outputs": [],
   "source": [
    "early_stop = EarlyStopping(monitor=monitor_quantity, \n",
    "                           min_delta=es_delta,\n",
    "                           mode=monitor_mode, \n",
    "                           patience=es_patience\n",
    "                          )"
   ]
  },
  {
   "cell_type": "code",
   "execution_count": 10,
   "id": "3ed4c62b",
   "metadata": {},
   "outputs": [],
   "source": [
    "lr_logger = LearningRateMonitor(logging_interval='epoch')"
   ]
  },
  {
   "cell_type": "code",
   "execution_count": 11,
   "id": "f894ddb6",
   "metadata": {},
   "outputs": [
    {
     "name": "stderr",
     "output_type": "stream",
     "text": [
      "/opt/conda/lib/python3.7/site-packages/pytorch_lightning/trainer/connectors/callback_connector.py:91: LightningDeprecationWarning: Setting `Trainer(progress_bar_refresh_rate=1)` is deprecated in v1.5 and will be removed in v1.7. Please pass `pytorch_lightning.callbacks.progress.TQDMProgressBar` with `refresh_rate` directly to the Trainer's `callbacks` argument instead. Or, to disable the progress bar pass `enable_progress_bar = False` to the Trainer.\n",
      "  f\"Setting `Trainer(progress_bar_refresh_rate={progress_bar_refresh_rate})` is deprecated in v1.5 and\"\n",
      "GPU available: False, used: False\n",
      "TPU available: False, using: 0 TPU cores\n",
      "IPU available: False, using: 0 IPUs\n"
     ]
    }
   ],
   "source": [
    "trainer = pl.Trainer(gpus=ngpus,\n",
    "                     logger=mlflow_logger, \n",
    "                     max_epochs=epochs,\n",
    "                     precision=precision, \n",
    "                     log_every_n_steps=log_every_n, \n",
    "                     progress_bar_refresh_rate=1,\n",
    "                     callbacks=[checkpoint_callback, lr_logger, early_stop],\n",
    "                     )"
   ]
  },
  {
   "cell_type": "code",
   "execution_count": 197,
   "id": "4ee79b00",
   "metadata": {},
   "outputs": [
    {
     "name": "stderr",
     "output_type": "stream",
     "text": [
      "/opt/conda/lib/python3.7/site-packages/pytorch_lightning/trainer/data_loading.py:117: UserWarning: The dataloader, test_dataloader 0, does not have many workers which may be a bottleneck. Consider increasing the value of the `num_workers` argument` (try 8 which is the number of cpus on this machine) in the `DataLoader` init to improve performance.\n",
      "  f\"The dataloader, {name}, does not have many workers which may be a bottleneck.\"\n"
     ]
    },
    {
     "data": {
      "application/vnd.jupyter.widget-view+json": {
       "model_id": "06c2f69959244e9a844e7ab7b7994d13",
       "version_major": 2,
       "version_minor": 0
      },
      "text/plain": [
       "Testing: 0it [00:00, ?it/s]"
      ]
     },
     "metadata": {},
     "output_type": "display_data"
    },
    {
     "name": "stdout",
     "output_type": "stream",
     "text": [
      "--------------------------------------------------------------------------------\n",
      "DATALOADER:0 TEST RESULTS\n",
      "{'test_acc': 0.735401451587677,\n",
      " 'test_f1': 0.735401451587677,\n",
      " 'test_loss': 0.8223515748977661,\n",
      " 'test_prec': 0.735401451587677,\n",
      " 'test_rec': 0.735401451587677,\n",
      " 'test_spec': 0.9621992111206055}\n",
      "--------------------------------------------------------------------------------\n"
     ]
    },
    {
     "data": {
      "text/plain": [
       "[{'test_loss': 0.8223515748977661,\n",
       "  'test_acc': 0.735401451587677,\n",
       "  'test_prec': 0.735401451587677,\n",
       "  'test_rec': 0.735401451587677,\n",
       "  'test_spec': 0.9621992111206055,\n",
       "  'test_f1': 0.735401451587677}]"
      ]
     },
     "execution_count": 197,
     "metadata": {},
     "output_type": "execute_result"
    }
   ],
   "source": [
    "model = model.load_from_checkpoint(ckpt_path)\n",
    "\n",
    "trainer.test(model, datamodule=data_module)"
   ]
  },
  {
   "cell_type": "code",
   "execution_count": 12,
   "id": "001af914",
   "metadata": {},
   "outputs": [
    {
     "name": "stderr",
     "output_type": "stream",
     "text": [
      "/opt/conda/lib/python3.7/site-packages/pytorch_lightning/core/datamodule.py:470: LightningDeprecationWarning: DataModule.setup has already been called, so it will not be called again. In v1.6 this behavior will change to always call DataModule.setup.\n",
      "  f\"DataModule.{name} has already been called, so it will not be called again. \"\n"
     ]
    }
   ],
   "source": [
    "data_module.setup(None)\n"
   ]
  },
  {
   "cell_type": "code",
   "execution_count": 13,
   "id": "d8e0c0ba",
   "metadata": {},
   "outputs": [],
   "source": [
    "def get_predictions(model, iterator):\n",
    "\n",
    "    model.eval()\n",
    "\n",
    "    #images = []\n",
    "    labels = []\n",
    "    probs = []\n",
    "\n",
    "    with torch.no_grad():\n",
    "\n",
    "        for image, label in tqdm(iterator):\n",
    "\n",
    "            image = image.cpu()\n",
    "\n",
    "            label_pred = model.model(image)\n",
    "\n",
    "            label_prob = F.softmax(label_pred, dim = -1)\n",
    "\n",
    "            #images.append(image.cpu())\n",
    "            labels.append(label.cpu())\n",
    "            probs.append(label_prob.cpu())\n",
    "\n",
    "    #images = torch.cat(images, dim = 0)\n",
    "    labels = torch.cat(labels, dim = 0)\n",
    "    probs = torch.cat(probs, dim = 0)\n",
    "    pred_labels = torch.argmax(probs, 1)\n",
    "\n",
    "    return labels, pred_labels"
   ]
  },
  {
   "cell_type": "code",
   "execution_count": 15,
   "id": "5455ecd7",
   "metadata": {
    "scrolled": true
   },
   "outputs": [
    {
     "data": {
      "application/vnd.jupyter.widget-view+json": {
       "model_id": "5d209eb1bf8f4ef1be734fec728f8cec",
       "version_major": 2,
       "version_minor": 0
      },
      "text/plain": [
       "  0%|          | 0/1096 [00:00<?, ?it/s]"
      ]
     },
     "metadata": {},
     "output_type": "display_data"
    }
   ],
   "source": [
    "y,yhat = get_predictions(model,data_module.test_dataloader())"
   ]
  },
  {
   "cell_type": "code",
   "execution_count": 14,
   "id": "f9927845",
   "metadata": {},
   "outputs": [],
   "source": [
    "if classification_problem == 'binary':\n",
    "    labels = ['NORMAL', 'ABNORMAL']\n",
    "elif classification_problem == 'multi-class':\n",
    "    labels = ['NORMAL','CNV','CSR','GA','MRO','VMT','FMH','PMH']\n",
    "elif classification_problem == 'grading':\n",
    "    labels = ['Mild', 'MODERATE', 'SEVERE']"
   ]
  },
  {
   "cell_type": "code",
   "execution_count": 15,
   "id": "b8b72c7b",
   "metadata": {
    "scrolled": true
   },
   "outputs": [
    {
     "ename": "NameError",
     "evalue": "name 'yhat' is not defined",
     "output_type": "error",
     "traceback": [
      "\u001b[0;31m---------------------------------------------------------------------------\u001b[0m",
      "\u001b[0;31mNameError\u001b[0m                                 Traceback (most recent call last)",
      "\u001b[0;32m/tmp/ipykernel_371642/2345825917.py\u001b[0m in \u001b[0;36m<module>\u001b[0;34m\u001b[0m\n\u001b[0;32m----> 1\u001b[0;31m heatmap = sns.heatmap(confusion_matrix(yhat,y,output_dim),annot=True,fmt=\"0000.0f\",\n\u001b[0m\u001b[1;32m      2\u001b[0m             \u001b[0;31m#xticklabels=labels,\u001b[0m\u001b[0;34m\u001b[0m\u001b[0;34m\u001b[0m\u001b[0;34m\u001b[0m\u001b[0m\n\u001b[1;32m      3\u001b[0m             \u001b[0;31m#yticklabels=labels,\u001b[0m\u001b[0;34m\u001b[0m\u001b[0;34m\u001b[0m\u001b[0;34m\u001b[0m\u001b[0m\n\u001b[1;32m      4\u001b[0m             \u001b[0mlinecolor\u001b[0m\u001b[0;34m=\u001b[0m\u001b[0;34m'black'\u001b[0m\u001b[0;34m,\u001b[0m\u001b[0;34m\u001b[0m\u001b[0;34m\u001b[0m\u001b[0m\n\u001b[1;32m      5\u001b[0m             \u001b[0mlinewidths\u001b[0m\u001b[0;34m=\u001b[0m\u001b[0;36m0.1\u001b[0m\u001b[0;34m,\u001b[0m\u001b[0;34m\u001b[0m\u001b[0;34m\u001b[0m\u001b[0m\n",
      "\u001b[0;31mNameError\u001b[0m: name 'yhat' is not defined"
     ]
    }
   ],
   "source": [
    "heatmap = sns.heatmap(confusion_matrix(yhat,y,output_dim),annot=True,fmt=\"0000.0f\",\n",
    "            #xticklabels=labels,\n",
    "            #yticklabels=labels,\n",
    "            linecolor='black',\n",
    "            linewidths=0.1,\n",
    "            cmap='Greens_r',\n",
    "            center=0,\n",
    "           )\n",
    "\n",
    "plt.xlabel('Actual', fontsize = 15) # x-axis label with fontsize 15\n",
    "plt.ylabel('Predicted', fontsize = 15) # y-axis label with fontsize 15"
   ]
  },
  {
   "cell_type": "code",
   "execution_count": 18,
   "id": "9091402e",
   "metadata": {},
   "outputs": [],
   "source": [
    "from sklearn.metrics import accuracy_score, precision_score, recall_score, confusion_matrix, classification_report, f1_score, roc_curve"
   ]
  },
  {
   "cell_type": "code",
   "execution_count": 19,
   "id": "1f65e300",
   "metadata": {},
   "outputs": [
    {
     "data": {
      "text/plain": [
       "array([[545,  17,   4,  30,  84,  30,   0,   1],\n",
       "       [  2,   5,   0,   2,   1,   0,   0,   0],\n",
       "       [  0,   0,   0,   0,   0,   0,   0,   0],\n",
       "       [  0,   0,   0,   0,   0,   0,   0,   0],\n",
       "       [ 41,  20,   6,   6, 255,  36,   2,   7],\n",
       "       [  1,   0,   0,   0,   0,   1,   0,   0],\n",
       "       [  0,   0,   0,   0,   0,   0,   0,   0],\n",
       "       [  0,   0,   0,   0,   0,   0,   0,   0]])"
      ]
     },
     "execution_count": 19,
     "metadata": {},
     "output_type": "execute_result"
    }
   ],
   "source": [
    "confusion_matrix(yhat,y,labels=list(range(8)))"
   ]
  },
  {
   "cell_type": "code",
   "execution_count": 20,
   "id": "88a50d66",
   "metadata": {},
   "outputs": [
    {
     "data": {
      "text/plain": [
       "73.54014598540147"
      ]
     },
     "execution_count": 20,
     "metadata": {},
     "output_type": "execute_result"
    }
   ],
   "source": [
    "accuracy_score(yhat,y)*100"
   ]
  },
  {
   "cell_type": "code",
   "execution_count": 21,
   "id": "e7a57c0b",
   "metadata": {},
   "outputs": [
    {
     "data": {
      "text/plain": [
       "85.66209624219925"
      ]
     },
     "execution_count": 21,
     "metadata": {},
     "output_type": "execute_result"
    }
   ],
   "source": [
    "precision_score(yhat,y,average='weighted')*100"
   ]
  },
  {
   "cell_type": "code",
   "execution_count": 22,
   "id": "0617e7d7",
   "metadata": {},
   "outputs": [
    {
     "name": "stderr",
     "output_type": "stream",
     "text": [
      "/opt/conda/lib/python3.7/site-packages/sklearn/metrics/_classification.py:1308: UndefinedMetricWarning: Recall is ill-defined and being set to 0.0 in labels with no true samples. Use `zero_division` parameter to control this behavior.\n",
      "  _warn_prf(average, modifier, msg_start, len(result))\n"
     ]
    },
    {
     "data": {
      "text/plain": [
       "30.627151653638908"
      ]
     },
     "execution_count": 22,
     "metadata": {},
     "output_type": "execute_result"
    }
   ],
   "source": [
    "recall_score(yhat,y,average='macro')*100"
   ]
  },
  {
   "cell_type": "code",
   "execution_count": null,
   "id": "7dbd472e",
   "metadata": {},
   "outputs": [],
   "source": []
  },
  {
   "cell_type": "code",
   "execution_count": 23,
   "id": "6d438dfb",
   "metadata": {},
   "outputs": [
    {
     "data": {
      "text/plain": [
       "73.54014598540147"
      ]
     },
     "execution_count": 23,
     "metadata": {},
     "output_type": "execute_result"
    }
   ],
   "source": [
    "f1_score(yhat,y,average='micro')*100"
   ]
  },
  {
   "cell_type": "code",
   "execution_count": 24,
   "id": "1a9f5ad1",
   "metadata": {},
   "outputs": [
    {
     "name": "stdout",
     "output_type": "stream",
     "text": [
      "              precision    recall  f1-score   support\n",
      "\n",
      "           0       0.93      0.77      0.84       711\n",
      "           1       0.12      0.50      0.19        10\n",
      "           2       0.00      0.00      0.00         0\n",
      "           3       0.00      0.00      0.00         0\n",
      "           4       0.75      0.68      0.72       373\n",
      "           5       0.01      0.50      0.03         2\n",
      "           6       0.00      0.00      0.00         0\n",
      "           7       0.00      0.00      0.00         0\n",
      "\n",
      "    accuracy                           0.74      1096\n",
      "   macro avg       0.23      0.31      0.22      1096\n",
      "weighted avg       0.86      0.74      0.79      1096\n",
      "\n"
     ]
    },
    {
     "name": "stderr",
     "output_type": "stream",
     "text": [
      "/opt/conda/lib/python3.7/site-packages/sklearn/metrics/_classification.py:1308: UndefinedMetricWarning: Recall and F-score are ill-defined and being set to 0.0 in labels with no true samples. Use `zero_division` parameter to control this behavior.\n",
      "  _warn_prf(average, modifier, msg_start, len(result))\n",
      "/opt/conda/lib/python3.7/site-packages/sklearn/metrics/_classification.py:1308: UndefinedMetricWarning: Recall and F-score are ill-defined and being set to 0.0 in labels with no true samples. Use `zero_division` parameter to control this behavior.\n",
      "  _warn_prf(average, modifier, msg_start, len(result))\n",
      "/opt/conda/lib/python3.7/site-packages/sklearn/metrics/_classification.py:1308: UndefinedMetricWarning: Recall and F-score are ill-defined and being set to 0.0 in labels with no true samples. Use `zero_division` parameter to control this behavior.\n",
      "  _warn_prf(average, modifier, msg_start, len(result))\n"
     ]
    }
   ],
   "source": [
    "x = classification_report(yhat,y)\n",
    "print(x)"
   ]
  },
  {
   "cell_type": "code",
   "execution_count": null,
   "id": "43f378eb",
   "metadata": {},
   "outputs": [],
   "source": [
    "from torchmetrics.functional import accuracy, precision, recall, specificity, f1"
   ]
  },
  {
   "cell_type": "code",
   "execution_count": null,
   "id": "4e5d02fc",
   "metadata": {},
   "outputs": [],
   "source": [
    "average='weighted'"
   ]
  },
  {
   "cell_type": "code",
   "execution_count": null,
   "id": "d5b4fcf2",
   "metadata": {},
   "outputs": [],
   "source": [
    "accuracy(yhat,y, num_classes=output_dim,average = average)"
   ]
  },
  {
   "cell_type": "code",
   "execution_count": null,
   "id": "53a696d6",
   "metadata": {},
   "outputs": [],
   "source": [
    "precision(yhat,y, num_classes=output_dim,average = average)"
   ]
  },
  {
   "cell_type": "code",
   "execution_count": null,
   "id": "91526403",
   "metadata": {},
   "outputs": [],
   "source": [
    "recall(yhat,y, num_classes=output_dim,average = average)"
   ]
  },
  {
   "cell_type": "code",
   "execution_count": null,
   "id": "11b9f106",
   "metadata": {},
   "outputs": [],
   "source": [
    "specificity(yhat,y, num_classes=output_dim,average = average)"
   ]
  },
  {
   "cell_type": "code",
   "execution_count": null,
   "id": "1756f2af",
   "metadata": {},
   "outputs": [],
   "source": [
    "f1(yhat,y, num_classes=output_dim,average = average)"
   ]
  }
 ],
 "metadata": {
  "kernelspec": {
   "display_name": "Python 3 (ipykernel)",
   "language": "python",
   "name": "python3"
  },
  "language_info": {
   "codemirror_mode": {
    "name": "ipython",
    "version": 3
   },
   "file_extension": ".py",
   "mimetype": "text/x-python",
   "name": "python",
   "nbconvert_exporter": "python",
   "pygments_lexer": "ipython3",
   "version": "3.7.11"
  }
 },
 "nbformat": 4,
 "nbformat_minor": 5
}
