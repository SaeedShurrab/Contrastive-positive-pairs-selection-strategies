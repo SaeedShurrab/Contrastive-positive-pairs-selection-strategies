{
 "cells": [
  {
   "cell_type": "code",
   "execution_count": 1,
   "id": "90551b91",
   "metadata": {},
   "outputs": [],
   "source": [
    "import os\n",
    "os.chdir('/src')\n",
    "\n",
    "\n",
    "import torch\n",
    "import pytorch_lightning as pl\n",
    "import torch.nn.functional as F\n",
    "from src.modules.downstream.classification import ClassificationModel\n",
    "from src.data.downstream.datasets import DownStreamDataModule\n",
    "from torchvision.models import resnet18\n",
    "from torchmetrics.functional import confusion_matrix\n",
    "from sklearn.metrics import classification_report\n",
    "import seaborn as sns\n",
    "from tqdm.notebook import tqdm\n",
    "import matplotlib.pyplot as plt"
   ]
  },
  {
   "cell_type": "code",
   "execution_count": 2,
   "id": "5d59ab63",
   "metadata": {},
   "outputs": [],
   "source": [
    "classification_problem = 'multi-class'\n",
    "data_dir = os.path.join('./','data','down-stream')\n",
    "batch_size = 8\n",
    "ckpt_path = './logs1/1/181c3d8c61e546d9b620c5efce73306b/artifacts/checkpoint.ckpt'"
   ]
  },
  {
   "cell_type": "code",
   "execution_count": 3,
   "id": "bcf942c9",
   "metadata": {},
   "outputs": [
    {
     "name": "stdout",
     "output_type": "stream",
     "text": [
      "./data/down-stream/multi-class 5\n"
     ]
    }
   ],
   "source": [
    "if classification_problem == 'binary':\n",
    "    data_dir = os.path.join(data_dir,'binary')\n",
    "    output_dim = 2\n",
    "    print(data_dir, output_dim)\n",
    "\n",
    "elif classification_problem =='multi-class':\n",
    "    data_dir = os.path.join(data_dir,'multi-class')\n",
    "    output_dim = 5\n",
    "    print(data_dir,output_dim)\n",
    "\n",
    "elif classification_problem == 'grading':\n",
    "    disease = 'MRO'\n",
    "    data_dir = os.path.join(data_dir,'grading',disease) \n",
    "    output_dim = 3\n",
    "    print(data_dir,output_dim) \n",
    "\n",
    "elif classification_problem == 'benchmark':\n",
    "    data_dir = os.path.join(data_dir,'OCT')\n",
    "    output_dim = 4 \n",
    "    print(data_dir,output_dim)"
   ]
  },
  {
   "cell_type": "code",
   "execution_count": 4,
   "id": "d6b1a7ba",
   "metadata": {},
   "outputs": [],
   "source": [
    "data_module = DownStreamDataModule(data_dir=data_dir,\n",
    "                                   form=classification_problem,\n",
    "                                   training_transforms=None,\n",
    "                                   val_test_transforms=None,\n",
    "                                   batch_size=batch_size,\n",
    "                                   num_workers=0,\n",
    "                                   pin_memory=False\n",
    "                                  )"
   ]
  },
  {
   "cell_type": "code",
   "execution_count": 5,
   "id": "569c02ec",
   "metadata": {},
   "outputs": [],
   "source": [
    "model = resnet18(num_classes=output_dim)"
   ]
  },
  {
   "cell_type": "code",
   "execution_count": 6,
   "id": "4ee79b00",
   "metadata": {},
   "outputs": [
    {
     "data": {
      "text/plain": [
       "<All keys matched successfully>"
      ]
     },
     "execution_count": 6,
     "metadata": {},
     "output_type": "execute_result"
    }
   ],
   "source": [
    "weights = torch.load(ckpt_path,map_location='cpu')['state_dict']\n",
    "weights = {key[6:]: value for key, value in weights.items()}\n",
    "model.load_state_dict(weights)"
   ]
  },
  {
   "cell_type": "code",
   "execution_count": 7,
   "id": "001af914",
   "metadata": {},
   "outputs": [],
   "source": [
    "data_module.setup(None)"
   ]
  },
  {
   "cell_type": "code",
   "execution_count": 8,
   "id": "d8e0c0ba",
   "metadata": {},
   "outputs": [],
   "source": [
    "def get_predictions(model, iterator):\n",
    "\n",
    "    model.eval()\n",
    "\n",
    "    #images = []\n",
    "    labels = []\n",
    "    probs = []\n",
    "\n",
    "    with torch.no_grad():\n",
    "\n",
    "        for image, label in tqdm(iterator):\n",
    "            \n",
    "            image = image.cpu()\n",
    "\n",
    "            label_pred = model(image)\n",
    "\n",
    "            label_prob = F.softmax(label_pred, dim = -1)\n",
    "\n",
    "            #images.append(image.cpu())\n",
    "            labels.append(label.cpu())\n",
    "            probs.append(label_prob.cpu())\n",
    "\n",
    "    #images = torch.cat(images, dim = 0)\n",
    "    labels = torch.cat(labels, dim = 0)\n",
    "    probs = torch.cat(probs, dim = 0)\n",
    "    pred_labels = torch.argmax(probs, 1)\n",
    "\n",
    "    return labels, pred_labels, probs"
   ]
  },
  {
   "cell_type": "code",
   "execution_count": 9,
   "id": "5455ecd7",
   "metadata": {
    "scrolled": true
   },
   "outputs": [
    {
     "data": {
      "application/vnd.jupyter.widget-view+json": {
       "model_id": "e0a941f7929e437cb8a31061509aa242",
       "version_major": 2,
       "version_minor": 0
      },
      "text/plain": [
       "  0%|          | 0/135 [00:00<?, ?it/s]"
      ]
     },
     "metadata": {},
     "output_type": "display_data"
    }
   ],
   "source": [
    "y,yhat,yprob = get_predictions(model,data_module.test_dataloader())"
   ]
  },
  {
   "cell_type": "code",
   "execution_count": 10,
   "id": "4a7d57a1",
   "metadata": {},
   "outputs": [
    {
     "data": {
      "text/plain": [
       "tensor([0.5028, 0.1288, 0.1444, 0.1249, 0.0992])"
      ]
     },
     "execution_count": 10,
     "metadata": {},
     "output_type": "execute_result"
    }
   ],
   "source": [
    "yprob[2]"
   ]
  },
  {
   "cell_type": "code",
   "execution_count": 11,
   "id": "f9927845",
   "metadata": {},
   "outputs": [],
   "source": [
    "if classification_problem == 'binary':\n",
    "    labels = ['NORMAL', 'ABNORMAL']\n",
    "elif classification_problem == 'multi-class':\n",
    "    labels = ['NORMAL','CNV','CSR','GA','MRO','VMT','MH']\n",
    "elif classification_problem == 'grading':\n",
    "    labels = ['Mild', 'MODERATE', 'SEVERE']"
   ]
  },
  {
   "cell_type": "code",
   "execution_count": 12,
   "id": "b8b72c7b",
   "metadata": {
    "scrolled": true
   },
   "outputs": [
    {
     "data": {
      "text/plain": [
       "Text(33.0, 0.5, 'Predicted')"
      ]
     },
     "execution_count": 12,
     "metadata": {},
     "output_type": "execute_result"
    },
    {
     "data": {
      "image/png": "[encoded data removed]",
      "text/plain": [
       "<Figure size 432x288 with 2 Axes>"
      ]
     },
     "metadata": {
      "needs_background": "light"
     },
     "output_type": "display_data"
    }
   ],
   "source": [
    "heatmap = sns.heatmap(confusion_matrix(yhat,y,output_dim),annot=True,fmt=\"0000.0f\",\n",
    "            #xticklabels=labels,\n",
    "            #yticklabels=labels,\n",
    "            linecolor='black',\n",
    "            linewidths=0.1,\n",
    "            cmap='Greens_r',\n",
    "            center=0,\n",
    "           )\n",
    "\n",
    "plt.xlabel('Actual', fontsize = 15) # x-axis label with fontsize 15\n",
    "plt.ylabel('Predicted', fontsize = 15) # y-axis label with fontsize 15"
   ]
  },
  {
   "cell_type": "code",
   "execution_count": 13,
   "id": "4e5d02fc",
   "metadata": {},
   "outputs": [],
   "source": [
    "average='weighted'"
   ]
  },
  {
   "cell_type": "code",
   "execution_count": 14,
   "id": "43f378eb",
   "metadata": {},
   "outputs": [],
   "source": [
    "from torchmetrics.functional import accuracy, precision, recall, specificity, f1,auroc"
   ]
  },
  {
   "cell_type": "code",
   "execution_count": 15,
   "id": "1a9f5ad1",
   "metadata": {},
   "outputs": [
    {
     "name": "stdout",
     "output_type": "stream",
     "text": [
      "              precision    recall  f1-score   support\n",
      "\n",
      "           0       0.80      0.92      0.85       589\n",
      "           1       0.61      0.48      0.53        42\n",
      "           2       0.33      0.05      0.09        38\n",
      "           3       0.81      0.79      0.80       340\n",
      "           4       0.70      0.31      0.43        67\n",
      "\n",
      "    accuracy                           0.79      1076\n",
      "   macro avg       0.65      0.51      0.54      1076\n",
      "weighted avg       0.77      0.79      0.77      1076\n",
      "\n"
     ]
    }
   ],
   "source": [
    "x = classification_report(y,yhat)\n",
    "print(x)"
   ]
  },
  {
   "cell_type": "code",
   "execution_count": 16,
   "id": "91526403",
   "metadata": {},
   "outputs": [
    {
     "data": {
      "text/plain": [
       "tensor(79.2751)"
      ]
     },
     "execution_count": 16,
     "metadata": {},
     "output_type": "execute_result"
    }
   ],
   "source": [
    "recall(yhat,y,num_classes=output_dim, average=average)*100"
   ]
  },
  {
   "cell_type": "code",
   "execution_count": 17,
   "id": "11b9f106",
   "metadata": {},
   "outputs": [
    {
     "data": {
      "text/plain": [
       "tensor(77.3910)"
      ]
     },
     "execution_count": 17,
     "metadata": {},
     "output_type": "execute_result"
    }
   ],
   "source": [
    "precision(yhat,y,num_classes=output_dim, average=average)*100"
   ]
  },
  {
   "cell_type": "code",
   "execution_count": 18,
   "id": "d5b4fcf2",
   "metadata": {},
   "outputs": [
    {
     "data": {
      "text/plain": [
       "tensor(79.2751)"
      ]
     },
     "execution_count": 18,
     "metadata": {},
     "output_type": "execute_result"
    }
   ],
   "source": [
    "accuracy(yhat,y)*100"
   ]
  },
  {
   "cell_type": "code",
   "execution_count": 19,
   "id": "9c7a9f69",
   "metadata": {},
   "outputs": [
    {
     "data": {
      "text/plain": [
       "tensor(91.9661)"
      ]
     },
     "execution_count": 19,
     "metadata": {},
     "output_type": "execute_result"
    }
   ],
   "source": [
    "auroc(yprob,y,num_classes=output_dim,average=average)*100"
   ]
  },
  {
   "cell_type": "code",
   "execution_count": 20,
   "id": "8ab21aa3",
   "metadata": {},
   "outputs": [],
   "source": [
    "from sklearn.metrics import confusion_matrix"
   ]
  },
  {
   "cell_type": "code",
   "execution_count": 21,
   "id": "6e37faa4",
   "metadata": {},
   "outputs": [
    {
     "data": {
      "text/plain": [
       "array([[540,   5,   3,  36,   5],\n",
       "       [ 15,  20,   0,   7,   0],\n",
       "       [ 28,   3,   2,   4,   1],\n",
       "       [ 61,   5,   1, 270,   3],\n",
       "       [ 31,   0,   0,  15,  21]])"
      ]
     },
     "execution_count": 21,
     "metadata": {},
     "output_type": "execute_result"
    }
   ],
   "source": [
    "conf_mat = confusion_matrix(y,yhat)\n",
    "conf_mat"
   ]
  },
  {
   "cell_type": "code",
   "execution_count": 22,
   "id": "27c43ef8",
   "metadata": {},
   "outputs": [],
   "source": [
    "TP = conf_mat[1,1] # true positive \n",
    "TN = conf_mat[0,0] # true negatives\n",
    "FP = conf_mat[0,1] # false positives\n",
    "FN = conf_mat[1,0] # false negatives"
   ]
  },
  {
   "cell_type": "code",
   "execution_count": 23,
   "id": "e699d670",
   "metadata": {},
   "outputs": [
    {
     "data": {
      "text/plain": [
       "52.04460966542751"
      ]
     },
     "execution_count": 23,
     "metadata": {},
     "output_type": "execute_result"
    }
   ],
   "source": [
    "acc = (TP+TN)/(conf_mat.sum())*100\n",
    "acc"
   ]
  },
  {
   "cell_type": "code",
   "execution_count": 24,
   "id": "a692a38b",
   "metadata": {},
   "outputs": [
    {
     "data": {
      "text/plain": [
       "57.14285714285714"
      ]
     },
     "execution_count": 24,
     "metadata": {},
     "output_type": "execute_result"
    }
   ],
   "source": [
    "sens = TP/(TP+FN)*100\n",
    "sens"
   ]
  },
  {
   "cell_type": "code",
   "execution_count": 25,
   "id": "8f84638d",
   "metadata": {},
   "outputs": [
    {
     "data": {
      "text/plain": [
       "80.0"
      ]
     },
     "execution_count": 25,
     "metadata": {},
     "output_type": "execute_result"
    }
   ],
   "source": [
    "spec = TP/(TP+FP)*100\n",
    "spec"
   ]
  },
  {
   "cell_type": "code",
   "execution_count": 26,
   "id": "3759c6cf",
   "metadata": {},
   "outputs": [
    {
     "ename": "ValueError",
     "evalue": "Argument `num_classes` was set to 2 in metric `precision_recall_curve` but detected 5 number of classes from predictions",
     "output_type": "error",
     "traceback": [
      "\u001b[0;31m---------------------------------------------------------------------------\u001b[0m",
      "\u001b[0;31mValueError\u001b[0m                                Traceback (most recent call last)",
      "\u001b[0;32m/tmp/ipykernel_75527/3819161181.py\u001b[0m in \u001b[0;36m<module>\u001b[0;34m\u001b[0m\n\u001b[0;32m----> 1\u001b[0;31m \u001b[0mauroc\u001b[0m\u001b[0;34m(\u001b[0m\u001b[0myprob\u001b[0m\u001b[0;34m,\u001b[0m\u001b[0my\u001b[0m\u001b[0;34m,\u001b[0m\u001b[0mnum_classes\u001b[0m\u001b[0;34m=\u001b[0m\u001b[0;36m2\u001b[0m\u001b[0;34m)\u001b[0m\u001b[0;34m*\u001b[0m\u001b[0;36m100\u001b[0m\u001b[0;34m\u001b[0m\u001b[0;34m\u001b[0m\u001b[0m\n\u001b[0m",
      "\u001b[0;32m/opt/conda/lib/python3.7/site-packages/torchmetrics/functional/classification/auroc.py\u001b[0m in \u001b[0;36mauroc\u001b[0;34m(preds, target, num_classes, pos_label, average, max_fpr, sample_weights)\u001b[0m\n\u001b[1;32m    265\u001b[0m     \"\"\"\n\u001b[1;32m    266\u001b[0m     \u001b[0mpreds\u001b[0m\u001b[0;34m,\u001b[0m \u001b[0mtarget\u001b[0m\u001b[0;34m,\u001b[0m \u001b[0mmode\u001b[0m \u001b[0;34m=\u001b[0m \u001b[0m_auroc_update\u001b[0m\u001b[0;34m(\u001b[0m\u001b[0mpreds\u001b[0m\u001b[0;34m,\u001b[0m \u001b[0mtarget\u001b[0m\u001b[0;34m)\u001b[0m\u001b[0;34m\u001b[0m\u001b[0;34m\u001b[0m\u001b[0m\n\u001b[0;32m--> 267\u001b[0;31m     \u001b[0;32mreturn\u001b[0m \u001b[0m_auroc_compute\u001b[0m\u001b[0;34m(\u001b[0m\u001b[0mpreds\u001b[0m\u001b[0;34m,\u001b[0m \u001b[0mtarget\u001b[0m\u001b[0;34m,\u001b[0m \u001b[0mmode\u001b[0m\u001b[0;34m,\u001b[0m \u001b[0mnum_classes\u001b[0m\u001b[0;34m,\u001b[0m \u001b[0mpos_label\u001b[0m\u001b[0;34m,\u001b[0m \u001b[0maverage\u001b[0m\u001b[0;34m,\u001b[0m \u001b[0mmax_fpr\u001b[0m\u001b[0;34m,\u001b[0m \u001b[0msample_weights\u001b[0m\u001b[0;34m)\u001b[0m\u001b[0;34m\u001b[0m\u001b[0;34m\u001b[0m\u001b[0m\n\u001b[0m",
      "\u001b[0;32m/opt/conda/lib/python3.7/site-packages/torchmetrics/functional/classification/auroc.py\u001b[0m in \u001b[0;36m_auroc_compute\u001b[0;34m(preds, target, mode, num_classes, pos_label, average, max_fpr, sample_weights)\u001b[0m\n\u001b[1;32m    148\u001b[0m                 \u001b[0;32mif\u001b[0m \u001b[0mnum_classes\u001b[0m \u001b[0;34m==\u001b[0m \u001b[0;36m1\u001b[0m\u001b[0;34m:\u001b[0m\u001b[0;34m\u001b[0m\u001b[0;34m\u001b[0m\u001b[0m\n\u001b[1;32m    149\u001b[0m                     \u001b[0;32mraise\u001b[0m \u001b[0mValueError\u001b[0m\u001b[0;34m(\u001b[0m\u001b[0;34m\"Found 1 non-empty class in `multiclass` AUROC calculation\"\u001b[0m\u001b[0;34m)\u001b[0m\u001b[0;34m\u001b[0m\u001b[0;34m\u001b[0m\u001b[0m\n\u001b[0;32m--> 150\u001b[0;31m         \u001b[0mfpr\u001b[0m\u001b[0;34m,\u001b[0m \u001b[0mtpr\u001b[0m\u001b[0;34m,\u001b[0m \u001b[0m_\u001b[0m \u001b[0;34m=\u001b[0m \u001b[0mroc\u001b[0m\u001b[0;34m(\u001b[0m\u001b[0mpreds\u001b[0m\u001b[0;34m,\u001b[0m \u001b[0mtarget\u001b[0m\u001b[0;34m,\u001b[0m \u001b[0mnum_classes\u001b[0m\u001b[0;34m,\u001b[0m \u001b[0mpos_label\u001b[0m\u001b[0;34m,\u001b[0m \u001b[0msample_weights\u001b[0m\u001b[0;34m)\u001b[0m\u001b[0;34m\u001b[0m\u001b[0;34m\u001b[0m\u001b[0m\n\u001b[0m\u001b[1;32m    151\u001b[0m \u001b[0;34m\u001b[0m\u001b[0m\n\u001b[1;32m    152\u001b[0m     \u001b[0;31m# calculate standard roc auc score\u001b[0m\u001b[0;34m\u001b[0m\u001b[0;34m\u001b[0m\u001b[0;34m\u001b[0m\u001b[0m\n",
      "\u001b[0;32m/opt/conda/lib/python3.7/site-packages/torchmetrics/functional/classification/roc.py\u001b[0m in \u001b[0;36mroc\u001b[0;34m(preds, target, num_classes, pos_label, sample_weights)\u001b[0m\n\u001b[1;32m    288\u001b[0m          tensor([1.1837, 0.1837, 0.1338, 0.1183, 0.1138])]\n\u001b[1;32m    289\u001b[0m     \"\"\"\n\u001b[0;32m--> 290\u001b[0;31m     \u001b[0mpreds\u001b[0m\u001b[0;34m,\u001b[0m \u001b[0mtarget\u001b[0m\u001b[0;34m,\u001b[0m \u001b[0mnum_classes\u001b[0m\u001b[0;34m,\u001b[0m \u001b[0mpos_label\u001b[0m \u001b[0;34m=\u001b[0m \u001b[0m_roc_update\u001b[0m\u001b[0;34m(\u001b[0m\u001b[0mpreds\u001b[0m\u001b[0;34m,\u001b[0m \u001b[0mtarget\u001b[0m\u001b[0;34m,\u001b[0m \u001b[0mnum_classes\u001b[0m\u001b[0;34m,\u001b[0m \u001b[0mpos_label\u001b[0m\u001b[0;34m)\u001b[0m\u001b[0;34m\u001b[0m\u001b[0;34m\u001b[0m\u001b[0m\n\u001b[0m\u001b[1;32m    291\u001b[0m     \u001b[0;32mreturn\u001b[0m \u001b[0m_roc_compute\u001b[0m\u001b[0;34m(\u001b[0m\u001b[0mpreds\u001b[0m\u001b[0;34m,\u001b[0m \u001b[0mtarget\u001b[0m\u001b[0;34m,\u001b[0m \u001b[0mnum_classes\u001b[0m\u001b[0;34m,\u001b[0m \u001b[0mpos_label\u001b[0m\u001b[0;34m,\u001b[0m \u001b[0msample_weights\u001b[0m\u001b[0;34m)\u001b[0m\u001b[0;34m\u001b[0m\u001b[0;34m\u001b[0m\u001b[0m\n",
      "\u001b[0;32m/opt/conda/lib/python3.7/site-packages/torchmetrics/functional/classification/roc.py\u001b[0m in \u001b[0;36m_roc_update\u001b[0;34m(preds, target, num_classes, pos_label)\u001b[0m\n\u001b[1;32m     43\u001b[0m     \"\"\"\n\u001b[1;32m     44\u001b[0m \u001b[0;34m\u001b[0m\u001b[0m\n\u001b[0;32m---> 45\u001b[0;31m     \u001b[0;32mreturn\u001b[0m \u001b[0m_precision_recall_curve_update\u001b[0m\u001b[0;34m(\u001b[0m\u001b[0mpreds\u001b[0m\u001b[0;34m,\u001b[0m \u001b[0mtarget\u001b[0m\u001b[0;34m,\u001b[0m \u001b[0mnum_classes\u001b[0m\u001b[0;34m,\u001b[0m \u001b[0mpos_label\u001b[0m\u001b[0;34m)\u001b[0m\u001b[0;34m\u001b[0m\u001b[0;34m\u001b[0m\u001b[0m\n\u001b[0m\u001b[1;32m     46\u001b[0m \u001b[0;34m\u001b[0m\u001b[0m\n\u001b[1;32m     47\u001b[0m \u001b[0;34m\u001b[0m\u001b[0m\n",
      "\u001b[0;32m/opt/conda/lib/python3.7/site-packages/torchmetrics/functional/classification/precision_recall_curve.py\u001b[0m in \u001b[0;36m_precision_recall_curve_update\u001b[0;34m(preds, target, num_classes, pos_label)\u001b[0m\n\u001b[1;32m    109\u001b[0m         \u001b[0;32mif\u001b[0m \u001b[0mnum_classes\u001b[0m \u001b[0;34m!=\u001b[0m \u001b[0mpreds\u001b[0m\u001b[0;34m.\u001b[0m\u001b[0mshape\u001b[0m\u001b[0;34m[\u001b[0m\u001b[0;36m1\u001b[0m\u001b[0;34m]\u001b[0m\u001b[0;34m:\u001b[0m\u001b[0;34m\u001b[0m\u001b[0;34m\u001b[0m\u001b[0m\n\u001b[1;32m    110\u001b[0m             raise ValueError(\n\u001b[0;32m--> 111\u001b[0;31m                 \u001b[0;34mf\"Argument `num_classes` was set to {num_classes} in\"\u001b[0m\u001b[0;34m\u001b[0m\u001b[0;34m\u001b[0m\u001b[0m\n\u001b[0m\u001b[1;32m    112\u001b[0m                 \u001b[0;34mf\" metric `precision_recall_curve` but detected {preds.shape[1]}\"\u001b[0m\u001b[0;34m\u001b[0m\u001b[0;34m\u001b[0m\u001b[0m\n\u001b[1;32m    113\u001b[0m                 \u001b[0;34m\" number of classes from predictions\"\u001b[0m\u001b[0;34m\u001b[0m\u001b[0;34m\u001b[0m\u001b[0m\n",
      "\u001b[0;31mValueError\u001b[0m: Argument `num_classes` was set to 2 in metric `precision_recall_curve` but detected 5 number of classes from predictions"
     ]
    }
   ],
   "source": [
    "auroc(yprob,y,num_classes=2)*100"
   ]
  },
  {
   "cell_type": "code",
   "execution_count": null,
   "id": "68b7ea53",
   "metadata": {},
   "outputs": [],
   "source": []
  }
 ],
 "metadata": {
  "kernelspec": {
   "display_name": "Python 3 (ipykernel)",
   "language": "python",
   "name": "python3"
  },
  "language_info": {
   "codemirror_mode": {
    "name": "ipython",
    "version": 3
   },
   "file_extension": ".py",
   "mimetype": "text/x-python",
   "name": "python",
   "nbconvert_exporter": "python",
   "pygments_lexer": "ipython3",
   "version": "3.7.11"
  }
 },
 "nbformat": 4,
 "nbformat_minor": 5
}
