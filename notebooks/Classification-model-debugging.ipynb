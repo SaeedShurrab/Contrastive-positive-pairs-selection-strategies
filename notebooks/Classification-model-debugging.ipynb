{
 "cells": [
  {
   "cell_type": "code",
   "execution_count": 1,
   "id": "823817d1",
   "metadata": {},
   "outputs": [],
   "source": [
    "import os\n",
    "os.chdir('..')\n",
    "\n",
    "from typing import Optional, List\n",
    "\n",
    "from torch import Tensor\n",
    "import torch.nn as nn\n",
    "import torch.optim as optim\n",
    "\n",
    "import pytorch_lightning as pl\n",
    "\n",
    "from torchmetrics.functional import  accuracy, precision,recall, specificity\n",
    "\n",
    "from src.models.basemodels.resnet import resnet34"
   ]
  },
  {
   "cell_type": "code",
   "execution_count": 48,
   "id": "76b49016",
   "metadata": {},
   "outputs": [],
   "source": [
    "import torch\n",
    "import PIL.Image as Image\n",
    "import matplotlib.pyplot as plt\n",
    "import torchvision.transforms as T\n",
    "from torch.utils.data import Dataset, DataLoader\n",
    "from torchvision.datasets import ImageFolder\n",
    "from torch.nn import functional as F"
   ]
  },
  {
   "cell_type": "code",
   "execution_count": 3,
   "id": "6e1a09a3",
   "metadata": {},
   "outputs": [],
   "source": [
    "\n",
    "class ClassificationModel(pl.LightningModule):\n",
    "    def __init__(self,\n",
    "                model: nn.Module,\n",
    "                criterion: nn.Module,\n",
    "                optimizer: str = 'sgd',\n",
    "                learning_rate: float =  1e-2,\n",
    "                weight_decay: float = 0.0,\n",
    "                scheduler: Optional[str] = 'step',\n",
    "                sched_step_size: int = 5,\n",
    "                sched_gamma: float = 0.5,\n",
    "                output_dim: int = 2,\n",
    "                freeze: bool = False,\n",
    "                max_epochs: int = 50\n",
    "                ) -> None:\n",
    "        super(ClassificationModel, self).__init__()\n",
    "\n",
    "        self.save_hyperparameters()\n",
    "        self.model = model()\n",
    "        self.criterion = criterion()\n",
    "        self.optimizer = optimizer.lower()\n",
    "        self.learning_rate = learning_rate\n",
    "        self.weight_decay = weight_decay\n",
    "        self.scheduler = scheduler\n",
    "        self.sched_step_size = sched_step_size\n",
    "        self.sched_gamma = sched_gamma\n",
    "        self.max_epochs = max_epochs\n",
    "        self.output_dim = output_dim\n",
    "\n",
    "        if freeze:\n",
    "            for param in self.model.parameters():\n",
    "                param.requires_grad = False\n",
    "        \n",
    "        self.model.fc = nn.Linear(self.model.fc.in_features,self.output_dim)\n",
    "\n",
    "    def forward(self,\n",
    "                x: Tensor\n",
    "               ) -> Tensor:\n",
    "        return self.model(x)\n",
    "\n",
    "    def training_step(self, \n",
    "                      batch: List[Tensor], \n",
    "                      batch_idx: int\n",
    "                     ) -> float:\n",
    "        input, label = batch\n",
    "        prediction = self.model(input)\n",
    "        loss = self.criterion(prediction, label)\n",
    "        acc = accuracy(preds=prediction, target=label)\n",
    "        \n",
    "        self.log(\"train_loss\", loss, on_epoch= True,on_step=True , logger=True,prog_bar=True)\n",
    "        self.log(\"train_acc\", acc, on_epoch= True,on_step=True , logger=True,prog_bar=True)\n",
    "        return loss\n",
    "\n",
    "    \n",
    "    def validation_step (self, \n",
    "                      batch: List[Tensor], \n",
    "                      batch_idx: int\n",
    "                     ) -> float:\n",
    "        input,label = batch\n",
    "        prediction = self.model(input)\n",
    "        loss = self.criterion(prediction, label)\n",
    "        acc = accuracy(preds=prediction, target=label)\n",
    "\n",
    "        self.log(\"val_loss\", loss, on_epoch= True,on_step=True , logger=True, prog_bar=True)\n",
    "        self.log(\"val_acc\", acc, on_epoch= True,on_step=True , logger=True, prog_bar=True)\n",
    "        return loss\n",
    "\n",
    "\n",
    "    def test_step(self, \n",
    "                  batch: List[Tensor], \n",
    "                  batch_idx: int\n",
    "                 ) -> float:\n",
    "        input, label = batch\n",
    "        prediction = self.model(input)\n",
    "        loss = self.criterion(prediction, label)\n",
    "        acc = accuracy(preds=prediction, target=label)\n",
    "\n",
    "        self.log(\"test_loss\", loss, on_epoch= True,on_step=True , logger=True,prog_bar=True)\n",
    "        self.log(\"test_acc\", acc, on_epoch= True,on_step=True , logger=True, prog_bar=True)\n",
    "        return loss \n",
    "\n",
    "    def on_fit_start(self) -> None:\n",
    "        self.logger.experiment.log_artifact(self.logger.run_id,'./args.json')\n",
    "\n",
    "\n",
    "    def configure_optimizers(self):\n",
    "        if self.optimizer == 'adam':\n",
    "            optimizer = optim.Adam(params=self.parameters(), \n",
    "                                   lr=self.learning_rate, \n",
    "                                   weight_decay=self.weight_decay\n",
    "                                   )\n",
    "        elif self.optimizer == 'sgd':\n",
    "            optimizer = optim.SGD(params=self.parameters(), \n",
    "                                   lr=self.learning_rate, \n",
    "                                   weight_decay=self.weight_decay\n",
    "                                   )\n",
    "        else:\n",
    "            raise NameError('optimizer must be eithr sgd or adam')\n",
    "\n",
    "\n",
    "        if self.scheduler == 'step':\n",
    "            scheduler = optim.lr_scheduler.StepLR(optimizer=optimizer, \n",
    "                                                  step_size=self.sched_step_size,\n",
    "                                                  gamma=self.sched_gamma, verbose=True\n",
    "                                                 )\n",
    "        elif self.scheduler == 'exponential':\n",
    "             scheduler = optim.lr_scheduler.ExponentialLR(optimizer=optimizer, \n",
    "                                                          gamma=self.sched_gamma, verbose=True\n",
    "                                                         )\n",
    "        elif self.scheduler == 'cosine':\n",
    "            scheduler = optim.lr_scheduler.CosineAnnealingLR(optimizer=optimizer,\n",
    "                                                            eta_min=0,\n",
    "                                                            T_max=self.max_epochs\n",
    "                                                            )\n",
    "\n",
    "\n",
    "        elif self.scheduler is None:\n",
    "            scheduler = None\n",
    "\n",
    "        else: \n",
    "            raise NameError('scheduler must be eithr step or exponential')\n",
    "        \n",
    "        return {'optimizer': optimizer,\n",
    "                'lr_scheduler': scheduler\n",
    "               }"
   ]
  },
  {
   "cell_type": "code",
   "execution_count": 94,
   "id": "2455eb6a",
   "metadata": {},
   "outputs": [],
   "source": [
    "model = ClassificationModel(model=resnet34,\n",
    "                            criterion=nn.CrossEntropyLoss,\n",
    "                            optimizer='adam',\n",
    "                            learning_rate=0.001,\n",
    "                            weight_decay=0.0001,\n",
    "                            scheduler='cosine',\n",
    "                            output_dim=5,\n",
    "                            freeze= True,\n",
    "                            max_epochs=100\n",
    "                            )"
   ]
  },
  {
   "cell_type": "code",
   "execution_count": 95,
   "id": "be6e3349",
   "metadata": {},
   "outputs": [],
   "source": [
    "image = '/src/data/down-stream/grading/MRO/test/mild/42.jpg'"
   ]
  },
  {
   "cell_type": "code",
   "execution_count": 96,
   "id": "1d699c2d",
   "metadata": {},
   "outputs": [],
   "source": [
    "image = Image.open(image)"
   ]
  },
  {
   "cell_type": "code",
   "execution_count": 97,
   "id": "9974586f",
   "metadata": {},
   "outputs": [
    {
     "data": {
      "text/plain": [
       "<matplotlib.image.AxesImage at 0x7f71674aec50>"
      ]
     },
     "execution_count": 97,
     "metadata": {},
     "output_type": "execute_result"
    },
    {
     "data": {
      "image/png": "[encoded data removed]",
      "text/plain": [
       "<Figure size 432x288 with 1 Axes>"
      ]
     },
     "metadata": {
      "needs_background": "light"
     },
     "output_type": "display_data"
    }
   ],
   "source": [
    "plt.imshow(image, cmap='gray')"
   ]
  },
  {
   "cell_type": "code",
   "execution_count": 98,
   "id": "b1779b2f",
   "metadata": {},
   "outputs": [],
   "source": [
    "transforms = T.Compose([T.Resize((224,224)),\n",
    "                        T.ToTensor()])"
   ]
  },
  {
   "cell_type": "code",
   "execution_count": 99,
   "id": "2bff3f53",
   "metadata": {},
   "outputs": [],
   "source": [
    "image = transforms(image)"
   ]
  },
  {
   "cell_type": "code",
   "execution_count": 100,
   "id": "15f9ba52",
   "metadata": {},
   "outputs": [],
   "source": [
    "image = image.unsqueeze(0)"
   ]
  },
  {
   "cell_type": "code",
   "execution_count": 101,
   "id": "19d724f4",
   "metadata": {},
   "outputs": [
    {
     "data": {
      "text/plain": [
       "tensor([[-0.2113,  1.1687,  0.0508,  0.4395, -0.6529]],\n",
       "       grad_fn=<AddmmBackward0>)"
      ]
     },
     "execution_count": 101,
     "metadata": {},
     "output_type": "execute_result"
    }
   ],
   "source": [
    "model.model(image)"
   ]
  },
  {
   "cell_type": "code",
   "execution_count": 108,
   "id": "404b08d3",
   "metadata": {},
   "outputs": [],
   "source": [
    "train_dataset = ImageFolder(root='/src/data/down-stream/grading/MRO/train',transform = transforms)\n",
    "train_dataloader = DataLoader(dataset= train_dataset, batch_size= 1, shuffle= True)"
   ]
  },
  {
   "cell_type": "code",
   "execution_count": 109,
   "id": "490bde60",
   "metadata": {},
   "outputs": [
    {
     "data": {
      "text/plain": [
       "{'mild': 0, 'moderate': 1, 'severe': 2}"
      ]
     },
     "execution_count": 109,
     "metadata": {},
     "output_type": "execute_result"
    }
   ],
   "source": [
    "train_dataset.class_to_idx"
   ]
  },
  {
   "cell_type": "code",
   "execution_count": 110,
   "id": "6533eed6",
   "metadata": {},
   "outputs": [],
   "source": [
    "image,label = next(iter(train_dataloader))"
   ]
  },
  {
   "cell_type": "code",
   "execution_count": 111,
   "id": "996ff31b",
   "metadata": {},
   "outputs": [
    {
     "data": {
      "text/plain": [
       "tensor([1])"
      ]
     },
     "execution_count": 111,
     "metadata": {},
     "output_type": "execute_result"
    }
   ],
   "source": [
    "label"
   ]
  },
  {
   "cell_type": "code",
   "execution_count": 129,
   "id": "d07fcee6",
   "metadata": {},
   "outputs": [
    {
     "data": {
      "text/plain": [
       "tensor([[-0.1126,  1.0281,  0.0953,  0.4297, -0.6208]],\n",
       "       grad_fn=<AddmmBackward0>)"
      ]
     },
     "execution_count": 129,
     "metadata": {},
     "output_type": "execute_result"
    }
   ],
   "source": [
    "pred = model.model(image)\n",
    "pred"
   ]
  },
  {
   "cell_type": "code",
   "execution_count": 113,
   "id": "78797205",
   "metadata": {},
   "outputs": [
    {
     "data": {
      "text/plain": [
       "tensor(0.8981, grad_fn=<NllLossBackward0>)"
      ]
     },
     "execution_count": 113,
     "metadata": {},
     "output_type": "execute_result"
    }
   ],
   "source": [
    "F.cross_entropy(pred,label)"
   ]
  },
  {
   "cell_type": "code",
   "execution_count": 118,
   "id": "c72e1569",
   "metadata": {},
   "outputs": [],
   "source": [
    "input = torch.randn(3, 5, requires_grad=True)\n"
   ]
  },
  {
   "cell_type": "code",
   "execution_count": 126,
   "id": "8516da11",
   "metadata": {
    "scrolled": true
   },
   "outputs": [
    {
     "data": {
      "text/plain": [
       "tensor([[-0.2957, -1.0522, -0.4160, -1.7559,  0.4575],\n",
       "        [-0.7434, -0.9817, -1.3046,  0.6905, -0.4855],\n",
       "        [ 1.2950, -0.1555,  0.5719,  0.2225, -0.7019]], requires_grad=True)"
      ]
     },
     "execution_count": 126,
     "metadata": {},
     "output_type": "execute_result"
    }
   ],
   "source": [
    "input"
   ]
  },
  {
   "cell_type": "code",
   "execution_count": 127,
   "id": "0fbb9bff",
   "metadata": {},
   "outputs": [],
   "source": [
    "target = torch.randint(5, (3,), dtype=torch.int64)"
   ]
  },
  {
   "cell_type": "code",
   "execution_count": 128,
   "id": "2fb9b22e",
   "metadata": {},
   "outputs": [
    {
     "data": {
      "text/plain": [
       "tensor([2, 3, 0])"
      ]
     },
     "execution_count": 128,
     "metadata": {},
     "output_type": "execute_result"
    }
   ],
   "source": [
    "target"
   ]
  },
  {
   "cell_type": "code",
   "execution_count": 124,
   "id": "7dc02726",
   "metadata": {},
   "outputs": [],
   "source": [
    "loss = F.cross_entropy(input, target)"
   ]
  },
  {
   "cell_type": "code",
   "execution_count": 125,
   "id": "127ec818",
   "metadata": {},
   "outputs": [
    {
     "data": {
      "text/plain": [
       "tensor(2.2731, grad_fn=<NllLossBackward0>)"
      ]
     },
     "execution_count": 125,
     "metadata": {},
     "output_type": "execute_result"
    }
   ],
   "source": [
    "loss"
   ]
  },
  {
   "cell_type": "code",
   "execution_count": null,
   "id": "5cd97fe7",
   "metadata": {},
   "outputs": [],
   "source": []
  }
 ],
 "metadata": {
  "kernelspec": {
   "display_name": "Python 3 (ipykernel)",
   "language": "python",
   "name": "python3"
  },
  "language_info": {
   "codemirror_mode": {
    "name": "ipython",
    "version": 3
   },
   "file_extension": ".py",
   "mimetype": "text/x-python",
   "name": "python",
   "nbconvert_exporter": "python",
   "pygments_lexer": "ipython3",
   "version": "3.7.11"
  }
 },
 "nbformat": 4,
 "nbformat_minor": 5
}
