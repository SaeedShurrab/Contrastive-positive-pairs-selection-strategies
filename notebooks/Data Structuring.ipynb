{
 "cells": [
  {
   "cell_type": "code",
   "execution_count": 22,
   "metadata": {},
   "outputs": [],
   "source": [
    "import os \n",
    "import shutil\n",
    "\n",
    "import pandas as pd\n",
    "import numpy as np\n",
    "\n",
    "from tqdm.notebook import tqdm"
   ]
  },
  {
   "cell_type": "code",
   "execution_count": 23,
   "metadata": {},
   "outputs": [],
   "source": [
    "diagnosis_path = os.path.join(os.curdir,'..','data','down-stream','diagnosis.csv')\n",
    "data_path = os.path.join(os.curdir,'..','data','down-stream')"
   ]
  },
  {
   "cell_type": "code",
   "execution_count": 24,
   "metadata": {},
   "outputs": [],
   "source": [
    "diagnoses = pd.read_csv(diagnosis_path)"
   ]
  },
  {
   "cell_type": "code",
   "execution_count": 78,
   "metadata": {},
   "outputs": [
    {
     "data": {
      "text/html": [
       "<div>\n",
       "<style scoped>\n",
       "    .dataframe tbody tr th:only-of-type {\n",
       "        vertical-align: middle;\n",
       "    }\n",
       "\n",
       "    .dataframe tbody tr th {\n",
       "        vertical-align: top;\n",
       "    }\n",
       "\n",
       "    .dataframe thead th {\n",
       "        text-align: right;\n",
       "    }\n",
       "</style>\n",
       "<table border=\"1\" class=\"dataframe\">\n",
       "  <thead>\n",
       "    <tr style=\"text-align: right;\">\n",
       "      <th></th>\n",
       "      <th>Image_ID</th>\n",
       "      <th>Image_Path</th>\n",
       "      <th>Diagnose</th>\n",
       "      <th>Severity</th>\n",
       "    </tr>\n",
       "  </thead>\n",
       "  <tbody>\n",
       "    <tr>\n",
       "      <th>0</th>\n",
       "      <td>1</td>\n",
       "      <td>1</td>\n",
       "      <td>Normal</td>\n",
       "      <td>Normal</td>\n",
       "    </tr>\n",
       "    <tr>\n",
       "      <th>1</th>\n",
       "      <td>2</td>\n",
       "      <td>2</td>\n",
       "      <td>Normal</td>\n",
       "      <td>Normal</td>\n",
       "    </tr>\n",
       "    <tr>\n",
       "      <th>2</th>\n",
       "      <td>3</td>\n",
       "      <td>3</td>\n",
       "      <td>Normal</td>\n",
       "      <td>Normal</td>\n",
       "    </tr>\n",
       "    <tr>\n",
       "      <th>3</th>\n",
       "      <td>4</td>\n",
       "      <td>4</td>\n",
       "      <td>Normal</td>\n",
       "      <td>Normal</td>\n",
       "    </tr>\n",
       "    <tr>\n",
       "      <th>4</th>\n",
       "      <td>5</td>\n",
       "      <td>5</td>\n",
       "      <td>CSR</td>\n",
       "      <td>Moderate</td>\n",
       "    </tr>\n",
       "  </tbody>\n",
       "</table>\n",
       "</div>"
      ],
      "text/plain": [
       "   Image_ID Image_Path Diagnose  Severity\n",
       "0         1          1   Normal    Normal\n",
       "1         2          2   Normal    Normal\n",
       "2         3          3   Normal    Normal\n",
       "3         4          4   Normal    Normal\n",
       "4         5          5      CSR  Moderate"
      ]
     },
     "execution_count": 78,
     "metadata": {},
     "output_type": "execute_result"
    }
   ],
   "source": [
    "diagnoses.head()"
   ]
  },
  {
   "cell_type": "code",
   "execution_count": 26,
   "metadata": {},
   "outputs": [
    {
     "data": {
      "text/plain": [
       "'21428'"
      ]
     },
     "execution_count": 26,
     "metadata": {},
     "output_type": "execute_result"
    }
   ],
   "source": [
    "def keep_number(text:str) -> int:\n",
    "    tokens = text.split('\\\\')\n",
    "    number = tokens[-1]\n",
    "    number = number[0:-4]\n",
    "    return number\n",
    "\n",
    "keep_number(diagnoses['Image_Path'][21000])    "
   ]
  },
  {
   "cell_type": "code",
   "execution_count": 27,
   "metadata": {},
   "outputs": [],
   "source": [
    "diagnoses['Image_Path'] = diagnoses['Image_Path'].apply(lambda x: keep_number(x))"
   ]
  },
  {
   "cell_type": "code",
   "execution_count": 28,
   "metadata": {},
   "outputs": [
    {
     "data": {
      "text/html": [
       "<div>\n",
       "<style scoped>\n",
       "    .dataframe tbody tr th:only-of-type {\n",
       "        vertical-align: middle;\n",
       "    }\n",
       "\n",
       "    .dataframe tbody tr th {\n",
       "        vertical-align: top;\n",
       "    }\n",
       "\n",
       "    .dataframe thead th {\n",
       "        text-align: right;\n",
       "    }\n",
       "</style>\n",
       "<table border=\"1\" class=\"dataframe\">\n",
       "  <thead>\n",
       "    <tr style=\"text-align: right;\">\n",
       "      <th></th>\n",
       "      <th>Image_ID</th>\n",
       "      <th>Image_Path</th>\n",
       "      <th>Diagnose</th>\n",
       "      <th>Severity</th>\n",
       "    </tr>\n",
       "  </thead>\n",
       "  <tbody>\n",
       "    <tr>\n",
       "      <th>0</th>\n",
       "      <td>1</td>\n",
       "      <td>1</td>\n",
       "      <td>Normal</td>\n",
       "      <td>Normal</td>\n",
       "    </tr>\n",
       "    <tr>\n",
       "      <th>1</th>\n",
       "      <td>2</td>\n",
       "      <td>2</td>\n",
       "      <td>Normal</td>\n",
       "      <td>Normal</td>\n",
       "    </tr>\n",
       "    <tr>\n",
       "      <th>2</th>\n",
       "      <td>3</td>\n",
       "      <td>3</td>\n",
       "      <td>Normal</td>\n",
       "      <td>Normal</td>\n",
       "    </tr>\n",
       "    <tr>\n",
       "      <th>3</th>\n",
       "      <td>4</td>\n",
       "      <td>4</td>\n",
       "      <td>Normal</td>\n",
       "      <td>Normal</td>\n",
       "    </tr>\n",
       "    <tr>\n",
       "      <th>4</th>\n",
       "      <td>5</td>\n",
       "      <td>5</td>\n",
       "      <td>CSR</td>\n",
       "      <td>Moderate</td>\n",
       "    </tr>\n",
       "    <tr>\n",
       "      <th>...</th>\n",
       "      <td>...</td>\n",
       "      <td>...</td>\n",
       "      <td>...</td>\n",
       "      <td>...</td>\n",
       "    </tr>\n",
       "    <tr>\n",
       "      <th>22212</th>\n",
       "      <td>22640</td>\n",
       "      <td>22640</td>\n",
       "      <td>Normal</td>\n",
       "      <td>Normal</td>\n",
       "    </tr>\n",
       "    <tr>\n",
       "      <th>22213</th>\n",
       "      <td>22641</td>\n",
       "      <td>22641</td>\n",
       "      <td>CSR</td>\n",
       "      <td>Moderate</td>\n",
       "    </tr>\n",
       "    <tr>\n",
       "      <th>22214</th>\n",
       "      <td>22642</td>\n",
       "      <td>22642</td>\n",
       "      <td>Normal</td>\n",
       "      <td>Normal</td>\n",
       "    </tr>\n",
       "    <tr>\n",
       "      <th>22215</th>\n",
       "      <td>22643</td>\n",
       "      <td>22643</td>\n",
       "      <td>Normal</td>\n",
       "      <td>Normal</td>\n",
       "    </tr>\n",
       "    <tr>\n",
       "      <th>22216</th>\n",
       "      <td>22644</td>\n",
       "      <td>22644</td>\n",
       "      <td>Normal</td>\n",
       "      <td>Normal</td>\n",
       "    </tr>\n",
       "  </tbody>\n",
       "</table>\n",
       "<p>22217 rows × 4 columns</p>\n",
       "</div>"
      ],
      "text/plain": [
       "       Image_ID Image_Path Diagnose  Severity\n",
       "0             1          1   Normal    Normal\n",
       "1             2          2   Normal    Normal\n",
       "2             3          3   Normal    Normal\n",
       "3             4          4   Normal    Normal\n",
       "4             5          5      CSR  Moderate\n",
       "...         ...        ...      ...       ...\n",
       "22212     22640      22640   Normal    Normal\n",
       "22213     22641      22641      CSR  Moderate\n",
       "22214     22642      22642   Normal    Normal\n",
       "22215     22643      22643   Normal    Normal\n",
       "22216     22644      22644   Normal    Normal\n",
       "\n",
       "[22217 rows x 4 columns]"
      ]
     },
     "execution_count": 28,
     "metadata": {},
     "output_type": "execute_result"
    }
   ],
   "source": [
    "diagnoses"
   ]
  },
  {
   "cell_type": "code",
   "execution_count": 29,
   "metadata": {},
   "outputs": [],
   "source": [
    "diagnoses = diagnoses.loc[diagnoses.Diagnose != 'None']"
   ]
  },
  {
   "cell_type": "code",
   "execution_count": 30,
   "metadata": {},
   "outputs": [
    {
     "data": {
      "text/plain": [
       "21991"
      ]
     },
     "execution_count": 30,
     "metadata": {},
     "output_type": "execute_result"
    }
   ],
   "source": [
    "len(diagnoses)"
   ]
  },
  {
   "cell_type": "code",
   "execution_count": 31,
   "metadata": {},
   "outputs": [
    {
     "name": "stdout",
     "output_type": "stream",
     "text": [
      "directory exists\n",
      "directory exists\n",
      "directory exists\n"
     ]
    }
   ],
   "source": [
    "dirs = ['binary', 'multi-class','grading']\n",
    "\n",
    "for dir in dirs:\n",
    "    try:\n",
    "        os.mkdir(os.path.join(data_path,dir))\n",
    "    except:\n",
    "        print('directory exists')"
   ]
  },
  {
   "cell_type": "code",
   "execution_count": 32,
   "metadata": {},
   "outputs": [
    {
     "name": "stdout",
     "output_type": "stream",
     "text": [
      "directory exists\n",
      "directory exists\n"
     ]
    }
   ],
   "source": [
    "dirs = ['Normal', 'Abnormal']\n",
    "\n",
    "for dir in dirs:\n",
    "    try:\n",
    "        os.mkdir(os.path.join(data_path,'binary',dir))\n",
    "    except:\n",
    "        print('directory exists')"
   ]
  },
  {
   "cell_type": "code",
   "execution_count": 33,
   "metadata": {},
   "outputs": [
    {
     "name": "stdout",
     "output_type": "stream",
     "text": [
      "directory exists\n",
      "directory exists\n",
      "directory exists\n",
      "directory exists\n",
      "directory exists\n",
      "directory exists\n",
      "directory exists\n",
      "directory exists\n"
     ]
    }
   ],
   "source": [
    "dirs = ['Normal', 'CNV', 'CSR', 'VMT','PMH','FMH','MRO','GA']\n",
    "\n",
    "for dir in dirs:\n",
    "    try:\n",
    "        os.mkdir(os.path.join(data_path,'multi-class',dir))\n",
    "    except:\n",
    "        print('directory exists')"
   ]
  },
  {
   "cell_type": "code",
   "execution_count": 34,
   "metadata": {},
   "outputs": [
    {
     "name": "stdout",
     "output_type": "stream",
     "text": [
      "directory exists\n",
      "directory exists\n",
      "directory exists\n",
      "directory exists\n",
      "directory exists\n",
      "directory exists\n",
      "directory exists\n",
      "directory exists\n"
     ]
    }
   ],
   "source": [
    "dirs = ['Normal', 'CNV', 'CSR', 'VMT','PMH','FMH','MRO','GA']\n",
    "\n",
    "for dir in dirs:\n",
    "    try:\n",
    "        os.mkdir(os.path.join(data_path,'grading',dir))\n",
    "    except:\n",
    "        print('directory exists')"
   ]
  },
  {
   "cell_type": "code",
   "execution_count": 35,
   "metadata": {},
   "outputs": [
    {
     "name": "stdout",
     "output_type": "stream",
     "text": [
      "directory exists\n",
      "directory exists\n",
      "directory exists\n",
      "directory exists\n",
      "directory exists\n",
      "directory exists\n",
      "directory exists\n",
      "directory exists\n",
      "directory exists\n",
      "directory exists\n",
      "directory exists\n",
      "directory exists\n",
      "directory exists\n",
      "directory exists\n",
      "directory exists\n",
      "directory exists\n",
      "directory exists\n",
      "directory exists\n",
      "directory exists\n",
      "directory exists\n",
      "directory exists\n",
      "directory exists\n",
      "directory exists\n",
      "directory exists\n"
     ]
    }
   ],
   "source": [
    "dirs = ['mild', 'moderate', 'severe']\n",
    "\n",
    "\n",
    "for sub_dir in os.listdir(os.path.join(data_path,'grading')):\n",
    "    for dir in dirs:\n",
    "        try:\n",
    "            os.mkdir(os.path.join(data_path,'grading',sub_dir,dir))\n",
    "        except:\n",
    "            print('directory exists')"
   ]
  },
  {
   "cell_type": "code",
   "execution_count": 181,
   "metadata": {},
   "outputs": [
    {
     "data": {
      "application/vnd.jupyter.widget-view+json": {
       "model_id": "1411e708958c4484873053504dbd1330",
       "version_major": 2,
       "version_minor": 0
      },
      "text/plain": [
       "HBox(children=(FloatProgress(value=0.0, max=21991.0), HTML(value='')))"
      ]
     },
     "metadata": {},
     "output_type": "display_data"
    },
    {
     "name": "stdout",
     "output_type": "stream",
     "text": [
      "\n"
     ]
    }
   ],
   "source": [
    "\n",
    "for idx in tqdm(list(diagnoses.Image_Path)):\n",
    "    \n",
    "        image = str(idx) + '.jpg'\n",
    "        label = list(diagnoses.loc[diagnoses.Image_Path == idx]['Diagnose'])[0]\n",
    "    \n",
    "    \n",
    "    \n",
    "        if label == 'Normal':\n",
    "            shutil.copy(os.path.join(data_path,'images',image),os.path.join(data_path,'binary','Normal'))\n",
    "        else:\n",
    "            shutil.copy(os.path.join(data_path,'images',image),os.path.join(data_path,'binary','Abnormal'))\n"
   ]
  },
  {
   "cell_type": "code",
   "execution_count": 183,
   "metadata": {},
   "outputs": [
    {
     "data": {
      "application/vnd.jupyter.widget-view+json": {
       "model_id": "eb5312a6d21847f0bdfce3ca239c1571",
       "version_major": 2,
       "version_minor": 0
      },
      "text/plain": [
       "HBox(children=(FloatProgress(value=0.0, max=21991.0), HTML(value='')))"
      ]
     },
     "metadata": {},
     "output_type": "display_data"
    },
    {
     "name": "stdout",
     "output_type": "stream",
     "text": [
      "\n"
     ]
    }
   ],
   "source": [
    "for idx in tqdm(list(diagnoses.Image_Path)):\n",
    "    \n",
    "        image = str(idx) + '.jpg'\n",
    "        label = list(diagnoses.loc[diagnoses.Image_Path == idx]['Diagnose'])[0]\n",
    "    \n",
    "    \n",
    "\n",
    "        elif label == 'CSR':\n",
    "            shutil.copy(os.path.join(data_path,'images',image),os.path.join(data_path,'multi-class','CSR'))\n",
    "            \n",
    "        elif label == 'MRO':\n",
    "            shutil.copy(os.path.join(data_path,'images',image),os.path.join(data_path,'multi-class','MRO'))\n",
    "            \n",
    "        elif label == 'Geographic atrophy':\n",
    "            shutil.copy(os.path.join(data_path,'images',image),os.path.join(data_path,'multi-class','GA'))\n",
    "            \n",
    "        elif label == 'CNV ( Choroidal neovascularization )':\n",
    "            shutil.copy(os.path.join(data_path,'images',image),os.path.join(data_path,'multi-class','CNV'))\n",
    "            \n",
    "        elif label == 'Full Macular Hole ( Full Thickness )':\n",
    "            shutil.copy(os.path.join(data_path,'images',image),os.path.join(data_path,'multi-class','FMH'))\n",
    "            \n",
    "        elif label == 'Partial Macular Hole':\n",
    "            shutil.copy(os.path.join(data_path,'images',image),os.path.join(data_path,'multi-class','PMH'))\n",
    "            \n",
    "        elif label == 'VMT':\n",
    "            shutil.copy(os.path.join(data_path,'images',image),os.path.join(data_path,'multi-class','VMT'))"
   ]
  },
  {
   "cell_type": "code",
   "execution_count": 197,
   "metadata": {},
   "outputs": [
    {
     "data": {
      "application/vnd.jupyter.widget-view+json": {
       "model_id": "d71a81ebbe1e4cb294f19903d3aa883f",
       "version_major": 2,
       "version_minor": 0
      },
      "text/plain": [
       "HBox(children=(FloatProgress(value=0.0, max=21991.0), HTML(value='')))"
      ]
     },
     "metadata": {},
     "output_type": "display_data"
    },
    {
     "name": "stdout",
     "output_type": "stream",
     "text": [
      "\n"
     ]
    }
   ],
   "source": [
    "for idx in tqdm(list(diagnoses.Image_Path)):\n",
    "    \n",
    "        image = str(idx) + '.jpg'\n",
    "        label = list(diagnoses.loc[diagnoses.Image_Path == idx]['Diagnose'])[0]\n",
    "        sever = list(diagnoses.loc[diagnoses.Image_Path == idx]['Severity'])[0]\n",
    "    \n",
    "    \n",
    "        if label == 'Normal':\n",
    "            continue\n",
    "        \n",
    "        elif label == 'CSR' and sever == 'Mild':\n",
    "            shutil.copy(os.path.join(data_path,'images',image),os.path.join(data_path,'grading','CSR','mild'))\n",
    "        \n",
    "        elif label == 'CSR' and sever == 'Moderate':\n",
    "            shutil.copy(os.path.join(data_path,'images',image),os.path.join(data_path,'grading','CSR','moderate'))\n",
    "            \n",
    "        elif label == 'CSR' and sever == 'Advanced':\n",
    "            shutil.copy(os.path.join(data_path,'images',image),os.path.join(data_path,'grading','CSR','severe'))\n",
    "            \n",
    "            \n",
    "\n",
    "        elif label == 'MRO' and sever == 'Mild':\n",
    "            shutil.copy(os.path.join(data_path,'images',image),os.path.join(data_path,'grading','MRO','mild'))\n",
    "        \n",
    "        elif label == 'MRO' and sever == 'Moderate':\n",
    "            shutil.copy(os.path.join(data_path,'images',image),os.path.join(data_path,'grading','MRO','moderate'))\n",
    "            \n",
    "        elif label == 'MRO' and sever == 'Advanced':\n",
    "            shutil.copy(os.path.join(data_path,'images',image),os.path.join(data_path,'grading','MRO','severe'))\n",
    "            \n",
    "            \n",
    "\n",
    "        elif label == 'Geographic atrophy' and sever == 'Mild':\n",
    "            shutil.copy(os.path.join(data_path,'images',image),os.path.join(data_path,'grading','GA','mild'))\n",
    "        \n",
    "        elif label == 'Geographic atrophy' and sever == 'Moderate':\n",
    "            shutil.copy(os.path.join(data_path,'images',image),os.path.join(data_path,'grading','GA','moderate'))\n",
    "            \n",
    "        elif label == 'Geographic atrophy' and sever == 'Advanced':\n",
    "            shutil.copy(os.path.join(data_path,'images',image),os.path.join(data_path,'grading','GA','severe'))\n",
    "\n",
    "            \n",
    "            \n",
    "        elif label == 'CNV ( Choroidal neovascularization )' and sever == 'Mild':\n",
    "            shutil.copy(os.path.join(data_path,'images',image),os.path.join(data_path,'grading','CNV','mild'))\n",
    "        \n",
    "        elif label == 'CNV ( Choroidal neovascularization )' and sever == 'Moderate':\n",
    "            shutil.copy(os.path.join(data_path,'images',image),os.path.join(data_path,'grading','CNV','moderate'))\n",
    "            \n",
    "        elif label == 'CNV ( Choroidal neovascularization )' and sever == 'Advanced':\n",
    "            shutil.copy(os.path.join(data_path,'images',image),os.path.join(data_path,'grading','CNV','severe'))\n",
    "            \n",
    "            \n",
    "            \n",
    "        elif label == 'Full Macular Hole ( Full Thickness )' and sever == 'Mild':\n",
    "            shutil.copy(os.path.join(data_path,'images',image),os.path.join(data_path,'grading','FMH','mild'))\n",
    "        \n",
    "        elif label == 'Full Macular Hole ( Full Thickness )' and sever == 'Moderate':\n",
    "            shutil.copy(os.path.join(data_path,'images',image),os.path.join(data_path,'grading','FMH','moderate'))\n",
    "            \n",
    "        elif label == 'Full Macular Hole ( Full Thickness )' and sever == 'Advanced':\n",
    "            shutil.copy(os.path.join(data_path,'images',image),os.path.join(data_path,'grading','FMH','severe'))\n",
    "            \n",
    "            \n",
    "            \n",
    "        elif label == 'Partial Macular Hole' and sever == 'Mild':\n",
    "            shutil.copy(os.path.join(data_path,'images',image),os.path.join(data_path,'grading','PMH','mild'))\n",
    "        \n",
    "        elif label == 'Partial Macular Hole' and sever == 'Moderate':\n",
    "            shutil.copy(os.path.join(data_path,'images',image),os.path.join(data_path,'grading','PMH','moderate'))\n",
    "            \n",
    "        elif label == 'Partial Macular Hole' and sever == 'Advanced':\n",
    "            shutil.copy(os.path.join(data_path,'images',image),os.path.join(data_path,'grading','PMH','severe'))\n",
    "            \n",
    "            \n",
    "            \n",
    "        elif label == 'VMT' and sever == 'Mild':\n",
    "            shutil.copy(os.path.join(data_path,'images',image),os.path.join(data_path,'grading','VMT','mild'))\n",
    "        \n",
    "        elif label == 'VMT' and sever == 'Moderate':\n",
    "            shutil.copy(os.path.join(data_path,'images',image),os.path.join(data_path,'grading','VMT','moderate'))\n",
    "            \n",
    "        elif label == 'VMT' and sever == 'Advanced':\n",
    "            shutil.copy(os.path.join(data_path,'images',image),os.path.join(data_path,'grading','VMT','severe')) "
   ]
  },
  {
   "cell_type": "code",
   "execution_count": 192,
   "metadata": {},
   "outputs": [],
   "source": []
  }
 ],
 "metadata": {
  "kernelspec": {
   "display_name": "Python 3",
   "language": "python",
   "name": "python3"
  },
  "language_info": {
   "codemirror_mode": {
    "name": "ipython",
    "version": 3
   },
   "file_extension": ".py",
   "mimetype": "text/x-python",
   "name": "python",
   "nbconvert_exporter": "python",
   "pygments_lexer": "ipython3",
   "version": "3.8.3"
  }
 },
 "nbformat": 4,
 "nbformat_minor": 4
}
